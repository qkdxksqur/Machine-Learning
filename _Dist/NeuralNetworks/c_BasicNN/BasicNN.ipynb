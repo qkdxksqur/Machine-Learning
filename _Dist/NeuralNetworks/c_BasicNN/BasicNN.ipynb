{
 "cells": [
  {
   "cell_type": "code",
   "execution_count": 1,
   "metadata": {
    "collapsed": true
   },
   "outputs": [],
   "source": [
    "import sys\n",
    "sys.path.append(\"../../../\")\n",
    "from Util.Util import DataUtil\n",
    "\n",
    "x_train, y_train = DataUtil.gen_spiral(size=100, one_hot=False)\n",
    "x_test, y_test = DataUtil.gen_spiral(size=10, one_hot=False)"
   ]
  },
  {
   "cell_type": "code",
   "execution_count": 2,
   "metadata": {
    "scrolled": true
   },
   "outputs": [
    {
     "name": "stdout",
     "output_type": "stream",
     "text": [
      "============================================================\n",
      "This is a 7-classes problem\n",
      "------------------------------------------------------------\n",
      "Data     : 700 training samples, 70 test samples\n",
      "Features : 0 categorical, 2 numerical\n",
      "============================================================\n",
      "Deep model input: Continuous features only\n",
      "------------------------------------------------------------\n",
      "------------------------------------------------------------\n",
      "Using dropout with keep_prob = 0.5\n",
      "Training without batch norm\n",
      "Hidden units: [512, 512]\n",
      "============================================================\n",
      "Hyper parameters\n",
      "------------------------------------------------------------\n",
      "Activation   : relu\n",
      "Batch size   : 128\n",
      "Epoch num    : 200\n",
      "Optimizer    : Adam\n",
      "Metric       : multi_auc\n",
      "Loss         : cross_entropy\n",
      "lr           : 0.001\n",
      "lb           : 0.0\n",
      "------------------------------------------------------------\n",
      "\n",
      "## #     Main     # (200 : 0 -> 200) Task Finished. Time Cost:   0 h   0 min  10.02 s; Average:   0 h   0 min 0.05011 s  ##min 0.05016 s \n",
      "Test multi_auc: 1.000000\n",
      "acc: 0.985714\n"
     ]
    }
   ],
   "source": [
    "from NNWrapper import NNWrapper\n",
    "\n",
    "nn = NNWrapper(\n",
    "    \"Spiral\",\n",
    "    [True, True, False],\n",
    "    [set(), set(), set(range(7))],\n",
    "    model_param_settings={\"n_epoch\": 200}\n",
    ")\n",
    "train_losses, test_losses = nn.fit(x_train, y_train, x_test, y_test)\n",
    "nn.evaluate(x_test, y_test, \"acc\")"
   ]
  },
  {
   "cell_type": "code",
   "execution_count": 3,
   "metadata": {},
   "outputs": [
    {
     "data": {
      "image/png": "[encoded data removed]",
      "text/plain": [
       "<matplotlib.figure.Figure at 0x1bb6b58f208>"
      ]
     },
     "metadata": {},
     "output_type": "display_data"
    }
   ],
   "source": [
    "%matplotlib inline\n",
    "import numpy as np\n",
    "import matplotlib.pyplot as plt\n",
    "\n",
    "base = np.arange(len(train_losses))\n",
    "plt.figure()\n",
    "plt.plot(base, train_losses, label=\"train\")\n",
    "plt.plot(base, test_losses, label=\"test\")\n",
    "plt.legend()\n",
    "plt.show()"
   ]
  }
 ],
 "metadata": {
  "anaconda-cloud": {},
  "kernelspec": {
   "display_name": "Python 3",
   "language": "python",
   "name": "python3"
  },
  "language_info": {
   "codemirror_mode": {
    "name": "ipython",
    "version": 3
   },
   "file_extension": ".py",
   "mimetype": "text/x-python",
   "name": "python",
   "nbconvert_exporter": "python",
   "pygments_lexer": "ipython3",
   "version": "3.6.1"
  }
 },
 "nbformat": 4,
 "nbformat_minor": 1
}
