{
 "cells": [
  {
   "cell_type": "code",
   "execution_count": 1,
   "metadata": {
    "collapsed": true
   },
   "outputs": [],
   "source": [
    "import os\n",
    "import sys\n",
    "root_path = os.path.abspath(\"../../../\")\n",
    "if root_path not in sys.path:\n",
    "    sys.path.append(root_path)\n",
    "\n",
    "import numpy as np\n",
    "import matplotlib.pyplot as plt\n",
    "%matplotlib inline\n",
    "\n",
    "def draw_losses(nn):\n",
    "    el, il = nn.log[\"epoch_loss\"], nn.log[\"iter_loss\"]\n",
    "    ee_base = np.arange(len(el))\n",
    "    ie_base = np.linspace(0, len(el) - 1, len(il))\n",
    "    plt.figure()\n",
    "    plt.plot(ie_base, il, label=\"Iter loss\")\n",
    "    plt.plot(ee_base, el, linewidth=3, label=\"Epoch loss\")\n",
    "    plt.legend()\n",
    "    plt.show()\n",
    "\n",
    "from NN import Basic\n",
    "from Util.Util import DataUtil"
   ]
  },
  {
   "cell_type": "code",
   "execution_count": 2,
   "metadata": {
    "scrolled": false
   },
   "outputs": [
    {
     "name": "stdout",
     "output_type": "stream",
     "text": [
      "Epoch  200   Iter     1400   Snapshot    200 (acc)  -  Train :      1.0   Test :     0.98  -  Time Cost: 2.3690953254699707\n"
     ]
    }
   ],
   "source": [
    "x_train, y_train = DataUtil.gen_xor(size=1000, one_hot=False)\n",
    "x_test, y_test = DataUtil.gen_xor(size=100, one_hot=False)\n",
    "nn = Basic(model_param_settings={\"n_epoch\": 200}).fit(x_train, y_train, x_test, y_test, snapshot_ratio=0)\n",
    "draw_losses(nn)"
   ]
  },
  {
   "cell_type": "code",
   "execution_count": 3,
   "metadata": {},
   "outputs": [
    {
     "name": "stdout",
     "output_type": "stream",
     "text": [
      "Epoch  200   Iter    10800   Snapshot    200 (acc)  -  Train :      1.0   Test :      1.0  -  Time Cost: 11.73973822593689\n"
     ]
    }
   ],
   "source": [
    "x_train, y_train = DataUtil.gen_spiral(size=1000, one_hot=False)\n",
    "x_test, y_test = DataUtil.gen_spiral(size=100, one_hot=False)\n",
    "nn = Basic(model_param_settings={\"n_epoch\": 200}).fit(x_train, y_train, x_test, y_test, snapshot_ratio=0)\n",
    "draw_losses(nn)"
   ]
  },
  {
   "cell_type": "code",
   "execution_count": 4,
   "metadata": {},
   "outputs": [
    {
     "name": "stdout",
     "output_type": "stream",
     "text": [
      "Epoch  200   Iter     1400   Snapshot    200 (acc)  -  Train :     0.99   Test :     0.98  -  Time Cost: 2.1003665924072266\n"
     ]
    }
   ],
   "source": [
    "x_train, y_train = DataUtil.gen_nine_grid(size=1000, one_hot=False)\n",
    "x_test, y_test = DataUtil.gen_nine_grid(size=100, one_hot=False)\n",
    "nn = Basic(model_param_settings={\"n_epoch\": 200}).fit(x_train, y_train, x_test, y_test, snapshot_ratio=0)\n",
    "draw_losses(nn)"
   ]
  }
 ],
 "metadata": {
  "anaconda-cloud": {},
  "kernelspec": {
   "display_name": "Python 3",
   "language": "python",
   "name": "python3"
  },
  "language_info": {
   "codemirror_mode": {
    "name": "ipython",
    "version": 3
   },
   "file_extension": ".py",
   "mimetype": "text/x-python",
   "name": "python",
   "nbconvert_exporter": "python",
   "pygments_lexer": "ipython3",
   "version": "3.6.1"
  }
 },
 "nbformat": 4,
 "nbformat_minor": 1
}
