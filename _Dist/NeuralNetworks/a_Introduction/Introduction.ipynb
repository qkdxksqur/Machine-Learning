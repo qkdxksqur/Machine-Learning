{
 "cells": [
  {
   "cell_type": "code",
   "execution_count": 1,
   "metadata": {
    "collapsed": false
   },
   "outputs": [],
   "source": [
    "import sys\n",
    "import time\n",
    "import numpy as np\n",
    "sys.path.append(\"../../Util\")\n",
    "from ProgressBar import ProgressBar\n",
    "from Timing import Timing"
   ]
  },
  {
   "cell_type": "code",
   "execution_count": 2,
   "metadata": {
    "collapsed": false
   },
   "outputs": [
    {
     "data": {
      "text/plain": [
       "array([[   2104.,  399900.],\n",
       "       [   1600.,  329900.],\n",
       "       [   2400.,  369000.]], dtype=float32)"
      ]
     },
     "execution_count": 2,
     "metadata": {},
     "output_type": "execute_result"
    }
   ],
   "source": [
    "with open(\"../../_Data/prices.txt\", \"r\") as file:\n",
    "    data = np.array([line.strip().split(\",\") for line in file], dtype=np.float32)\n",
    "data[:3]"
   ]
  },
  {
   "cell_type": "code",
   "execution_count": 3,
   "metadata": {
    "collapsed": false
   },
   "outputs": [
    {
     "name": "stdout",
     "output_type": "stream",
     "text": [
      "32 7 8 47\n"
     ]
    }
   ],
   "source": [
    "length = len(data)\n",
    "n_train, n_cv = int(0.7*length), int(0.15*length)\n",
    "idx = np.random.permutation(length)\n",
    "train_idx, cv_idx = idx[:n_train], idx[n_train:n_train+n_cv]\n",
    "test_idx = idx[n_train+n_cv:]\n",
    "train, cv, test = data[train_idx], data[cv_idx], data[test_idx]\n",
    "print(len(train), len(cv), len(test), length)"
   ]
  },
  {
   "cell_type": "code",
   "execution_count": 4,
   "metadata": {
    "collapsed": false
   },
   "outputs": [
    {
     "name": "stdout",
     "output_type": "stream",
     "text": [
      "['j' 'c' 'c'] [9, 2, 2]\n"
     ]
    }
   ],
   "source": [
    "letters = np.array(list(\"qwertyuiopasdfghjklzxcvbnm\"))\n",
    "data = letters[np.random.randint(0, 26, 10000)]\n",
    "features = set(data)\n",
    "feat_dic = {c: i for i, c in enumerate(sorted(features))}\n",
    "\n",
    "def transform(data, feat_dic):\n",
    "    return [feat_dic[c] for c in data]\n",
    "\n",
    "print(data[:3], transform(data, feat_dic)[:3])"
   ]
  },
  {
   "cell_type": "code",
   "execution_count": 5,
   "metadata": {
    "collapsed": false
   },
   "outputs": [
    {
     "name": "stdout",
     "output_type": "stream",
     "text": [
      "['a', 'c', 'b'] [0, 2, 1]\n"
     ]
    }
   ],
   "source": [
    "data = [\"a\", \"c\", \"b\"]\n",
    "print(data, transform(data, feat_dic))"
   ]
  },
  {
   "cell_type": "code",
   "execution_count": 6,
   "metadata": {
    "collapsed": false,
    "scrolled": true
   },
   "outputs": [
    {
     "name": "stdout",
     "output_type": "stream",
     "text": [
      "\n",
      "## #    Task1     # Progress bar initialized  ##\n",
      "## #    Task2     # Progress bar initialized  ##\n",
      "## #    Task3     # (3 : 0 -> 3) Task Finished. Time Cost:   0 h   0 min  1.512 s; Average:   0 h   0 min  0.504 s  ##\n",
      "## #    Task2     # [----------                    ] : 1 / 3 ##  Time Cost:   0 h   0 min  2.016 s; Average:   0 h   0 min  2.016 s \n",
      "## #    Task3     # (3 : 0 -> 3) Task Finished. Time Cost:   0 h   0 min  1.512 s; Average:   0 h   0 min  0.504 s  ##\n",
      "## #    Task2     # [--------------------          ] : 2 / 3 ##  Time Cost:   0 h   0 min  4.032 s; Average:   0 h   0 min  2.016 s \n",
      "## #    Task3     # (3 : 0 -> 3) Task Finished. Time Cost:   0 h   0 min   1.51 s; Average:   0 h   0 min 0.5034 s  ##\n",
      "## #    Task2     # (3 : 0 -> 3) Task Finished. Time Cost:   0 h   0 min  6.046 s; Average:   0 h   0 min  2.015 s  ##\n",
      "## #    Task1     # [----------                    ] : 1 / 3 ##  Time Cost:   0 h   0 min  6.552 s; Average:   0 h   0 min  6.552 s \n",
      "## #    Task2     # Progress bar initialized  ##\n",
      "## #    Task3     # (3 : 0 -> 3) Task Finished. Time Cost:   0 h   0 min  1.512 s; Average:   0 h   0 min  0.504 s  ##\n",
      "## #    Task2     # [----------                    ] : 1 / 3 ##  Time Cost:   0 h   0 min  2.016 s; Average:   0 h   0 min  2.016 s \n",
      "## #    Task3     # (3 : 0 -> 3) Task Finished. Time Cost:   0 h   0 min  1.512 s; Average:   0 h   0 min  0.504 s  ##\n",
      "## #    Task2     # [--------------------          ] : 2 / 3 ##  Time Cost:   0 h   0 min  4.033 s; Average:   0 h   0 min  2.016 s \n",
      "## #    Task3     # (3 : 0 -> 3) Task Finished. Time Cost:   0 h   0 min  1.507 s; Average:   0 h   0 min 0.5022 s  ##\n",
      "## #    Task2     # (3 : 0 -> 3) Task Finished. Time Cost:   0 h   0 min  6.042 s; Average:   0 h   0 min  2.014 s  ##\n",
      "## #    Task1     # [--------------------          ] : 2 / 3 ##  Time Cost:   0 h   0 min   13.1 s; Average:   0 h   0 min  6.549 s \n",
      "## #    Task2     # Progress bar initialized  ##\n",
      "## #    Task3     # (3 : 0 -> 3) Task Finished. Time Cost:   0 h   0 min  1.501 s; Average:   0 h   0 min 0.5004 s  ##\n",
      "## #    Task2     # [----------                    ] : 1 / 3 ##  Time Cost:   0 h   0 min  2.005 s; Average:   0 h   0 min  2.005 s \n",
      "## #    Task3     # (3 : 0 -> 3) Task Finished. Time Cost:   0 h   0 min  1.515 s; Average:   0 h   0 min 0.5049 s  ##\n",
      "## #    Task2     # [--------------------          ] : 2 / 3 ##  Time Cost:   0 h   0 min  4.021 s; Average:   0 h   0 min  2.011 s \n",
      "## #    Task3     # (3 : 0 -> 3) Task Finished. Time Cost:   0 h   0 min  1.505 s; Average:   0 h   0 min 0.5016 s  ##\n",
      "## #    Task2     # (3 : 0 -> 3) Task Finished. Time Cost:   0 h   0 min  6.031 s; Average:   0 h   0 min   2.01 s  ##\n",
      "## #    Task1     # (3 : 0 -> 3) Task Finished. Time Cost:   0 h   0 min  19.64 s; Average:   0 h   0 min  6.545 s  ##\n"
     ]
    }
   ],
   "source": [
    "def task(cost=0.5, epoch=3, name=\"\", sub_task=None):\n",
    "    def sub():\n",
    "        bar = ProgressBar(max_value=epoch, name=name)\n",
    "        for _ in range(epoch):\n",
    "            time.sleep(cost)\n",
    "            if sub_task is not None:\n",
    "                sub_task()\n",
    "            bar.update()\n",
    "    return sub\n",
    "\n",
    "task(name=\"Task1\", sub_task=task(\n",
    "    name=\"Task2\", sub_task=task(\n",
    "        name=\"Task3\")))()"
   ]
  },
  {
   "cell_type": "code",
   "execution_count": 7,
   "metadata": {
    "collapsed": false
   },
   "outputs": [
    {
     "name": "stdout",
     "output_type": "stream",
     "text": [
      "\n",
      "==============================================================================================================\n",
      "Timing log\n",
      "--------------------------------------------------------------------------------------------------------------\n",
      "             Test1                   [Core]                        _test :     0.3105171 s (Call Time:      3)\n",
      "             Test1                 [Method]                         test :     0.3106821 s (Call Time:      1)\n",
      "             Test2                   [Core]                        _test :     0.6009197 s (Call Time:      3)\n",
      "             Test2                 [Method]                         test :     0.6014001 s (Call Time:      1)\n",
      "             Test3                   [Core]                        _test :     0.9126101 s (Call Time:      3)\n",
      "             Test3                 [Method]                         test :      0.912776 s (Call Time:      1)\n",
      "--------------------------------------------------------------------------------------------------------------\n"
     ]
    }
   ],
   "source": [
    "class Test:\n",
    "    timing = Timing()\n",
    "\n",
    "    def __init__(self, rate):\n",
    "        self.rate = rate\n",
    "\n",
    "    @timing.timeit()\n",
    "    def test(self, cost=0.1, epoch=3):\n",
    "        for _ in range(epoch):\n",
    "            self._test(cost * self.rate)\n",
    "\n",
    "    @timing.timeit(prefix=\"[Core] \")\n",
    "    def _test(self, cost):\n",
    "        time.sleep(cost)\n",
    "\n",
    "class Test1(Test):\n",
    "    def __init__(self):\n",
    "        Test.__init__(self, 1)\n",
    "\n",
    "class Test2(Test):\n",
    "    def __init__(self):\n",
    "        Test.__init__(self, 2)\n",
    "\n",
    "class Test3(Test):\n",
    "    def __init__(self):\n",
    "        Test.__init__(self, 3)\n",
    "\n",
    "test1 = Test1()\n",
    "test2 = Test2()\n",
    "test3 = Test3()\n",
    "test1.test()\n",
    "test2.test()\n",
    "test3.test()\n",
    "test1.timing.show_timing_log()"
   ]
  }
 ],
 "metadata": {
  "anaconda-cloud": {},
  "kernelspec": {
   "display_name": "Python [conda root]",
   "language": "python",
   "name": "conda-root-py"
  },
  "language_info": {
   "codemirror_mode": {
    "name": "ipython",
    "version": 3
   },
   "file_extension": ".py",
   "mimetype": "text/x-python",
   "name": "python",
   "nbconvert_exporter": "python",
   "pygments_lexer": "ipython3",
   "version": "3.5.2"
  }
 },
 "nbformat": 4,
 "nbformat_minor": 1
}
