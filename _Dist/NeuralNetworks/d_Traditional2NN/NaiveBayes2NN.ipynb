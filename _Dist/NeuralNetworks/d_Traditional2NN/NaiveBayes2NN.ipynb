{
 "cells": [
  {
   "cell_type": "code",
   "execution_count": 1,
   "metadata": {
    "collapsed": true
   },
   "outputs": [],
   "source": [
    "import os\n",
    "import sys\n",
    "root_path = os.path.abspath(\"../../../\")\n",
    "if root_path not in sys.path:\n",
    "    sys.path.append(root_path)\n",
    "    \n",
    "from Util.Util import DataUtil\n",
    "\n",
    "train_num = 6000\n",
    "(x_train, y_train), (x_test, y_test) = DataUtil.get_dataset(\n",
    "    \"mushroom\", \"../../../_Data/mushroom.txt\",\n",
    "    train_num=train_num, tar_idx=0\n",
    ")\n",
    "x_train, y_train, wc, features, feat_dicts, label_dict = DataUtil.quantize_data(x_train, y_train)\n",
    "x_cv, y_cv = DataUtil.transform_data(x_test, y_test, wc, feat_dicts, label_dict)\n",
    "\n",
    "from sklearn.preprocessing import OneHotEncoder\n",
    "enc = OneHotEncoder()\n",
    "x_train = enc.fit_transform(x_train).toarray()\n",
    "x_cv = enc.transform(x_cv).toarray()"
   ]
  },
  {
   "cell_type": "code",
   "execution_count": 2,
   "metadata": {
    "scrolled": true
   },
   "outputs": [
    {
     "name": "stdout",
     "output_type": "stream",
     "text": [
      "============================================================\n",
      "Naive Bayes performance\n",
      "------------------------------------------------------------\n",
      "acc  -  Train : 0.955167   CV :  0.95339\n",
      "------------------------------------------------------------\n",
      "============================================================\n",
      "Initial performance\n",
      "------------------------------------------------------------\n",
      "acc  -  Train : 0.955167   CV :  0.95339\n",
      "------------------------------------------------------------\n",
      "Epoch   32   Iter 1119   Snapshot   32 (acc)  -  Train :      1.0   CV :      1.0  -  Time Cost: 4.017876148223877\n"
     ]
    }
   ],
   "source": [
    "from Toolbox import NB2NN\n",
    "\n",
    "nn = NB2NN(x_train, y_train, x_cv, y_cv).fit(snapshot_ratio=0)"
   ]
  },
  {
   "cell_type": "code",
   "execution_count": 3,
   "metadata": {},
   "outputs": [
    {
     "data": {
      "image/png": "[encoded data removed]",
      "text/plain": [
       "<matplotlib.figure.Figure at 0x19e9fdb8358>"
      ]
     },
     "metadata": {},
     "output_type": "display_data"
    }
   ],
   "source": [
    "import numpy as np\n",
    "import matplotlib.pyplot as plt\n",
    "%matplotlib inline\n",
    "\n",
    "el, il = nn.log[\"epoch_loss\"], nn.log[\"iter_loss\"]\n",
    "ee_base = np.arange(len(el))\n",
    "ie_base = np.linspace(0, len(el) - 1, len(il))\n",
    "plt.figure()\n",
    "plt.plot(ie_base, il, label=\"Iter loss\")\n",
    "plt.plot(ee_base, el, linewidth=3, label=\"Epoch loss\")\n",
    "plt.legend()\n",
    "plt.show()"
   ]
  }
 ],
 "metadata": {
  "anaconda-cloud": {},
  "kernelspec": {
   "display_name": "Python 3",
   "language": "python",
   "name": "python3"
  },
  "language_info": {
   "codemirror_mode": {
    "name": "ipython",
    "version": 3
   },
   "file_extension": ".py",
   "mimetype": "text/x-python",
   "name": "python",
   "nbconvert_exporter": "python",
   "pygments_lexer": "ipython3",
   "version": "3.6.1"
  }
 },
 "nbformat": 4,
 "nbformat_minor": 1
}
