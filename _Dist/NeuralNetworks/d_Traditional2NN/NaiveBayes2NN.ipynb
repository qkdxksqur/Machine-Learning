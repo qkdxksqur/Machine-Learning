{
 "cells": [
  {
   "cell_type": "code",
   "execution_count": 1,
   "metadata": {
    "collapsed": false
   },
   "outputs": [],
   "source": [
    "import sys\n",
    "import numpy as np\n",
    "sys.path.append(\"../../../\")\n",
    "from Util.Util import DataUtil\n",
    "\n",
    "train_num = 6000\n",
    "(x_train, y_train), (x_test, y_test) = DataUtil.get_dataset(\n",
    "    \"mushroom\", \"../../../_Data/mushroom.txt\",\n",
    "    train_num=train_num, tar_idx=0\n",
    ")\n",
    "x_train, y_train, wc, features, feat_dics, label_dic = DataUtil.quantize_data(x_train, y_train)\n",
    "x_test, y_test = DataUtil.transform_data(x_test, y_test, wc, feat_dics, label_dic)\n",
    "\n",
    "from sklearn.preprocessing import OneHotEncoder\n",
    "enc = OneHotEncoder()\n",
    "x_train = enc.fit_transform(x_train).toarray()\n",
    "x_test = enc.transform(x_test).toarray()"
   ]
  },
  {
   "cell_type": "code",
   "execution_count": 2,
   "metadata": {
    "collapsed": false,
    "scrolled": true
   },
   "outputs": [
    {
     "name": "stdout",
     "output_type": "stream",
     "text": [
      "Shuffling data...\n",
      "Generating data info...\n",
      "Transforming data...\n"
     ]
    },
    {
     "name": "stderr",
     "output_type": "stream",
     "text": [
      "../../../_Dist/NeuralNetworks/c_NeuralNetwork/NNWrapper.py:201: UserWarning: One column is redundant: [82]\n",
      "  warnings.warn(warn_msg)\n"
     ]
    },
    {
     "name": "stdout",
     "output_type": "stream",
     "text": [
      "============================================================\n",
      "Naive Bayes performance\n",
      "------------------------------------------------------------\n",
      "Train :  0.955166666667\n",
      "Test  :  0.953389830508\n",
      "------------------------------------------------------------\n",
      "============================================================\n",
      "This is a 2-classes problem\n",
      "------------------------------------------------------------\n",
      "Data     : 6000 training samples, 2124 test samples\n",
      "Features : 117 categorical, 0 numerical\n",
      "-> No pre-processing methods were applied\n",
      "============================================================\n",
      "Deep model input: Continuous features and raw categorical features\n",
      "------------------------------------------------------------\n",
      "Using raw values in categorical columns without embedding\n",
      "------------------------------------------------------------\n",
      "Using dropout with keep_prob = 0.5\n",
      "Training without batch norm\n",
      "Hidden units: []\n",
      "============================================================\n",
      "Hyper parameters\n",
      "------------------------------------------------------------\n",
      "Activation   : Linear\n",
      "Batch size   : 128\n",
      "Epoch num    : 20\n",
      "Optimizer    : Adam\n",
      "Metric       : acc\n",
      "Loss         : cross_entropy\n",
      "lr           : 0.001\n",
      "lb           : 0.0\n",
      "------------------------------------------------------------\n",
      "Noises       : None\n",
      "------------------------------------------------------------\n",
      "============================================================\n",
      "Initial performance\n",
      "------------------------------------------------------------\n",
      "Train acc: 0.955167\n",
      "Test  acc:  0.95339\n",
      "------------------------------------------------------------\n",
      "\n",
      "## #     Main     # (20 : 0 -> 18) Task Finished. Time Cost:   0 h   0 min   3.38 s; Average:   0 h   0 min 0.1878 s  ##\n",
      "============================================================\n",
      "History score summary of Mushroom (test) - snapshot 0\n",
      "------------------------------------------------------------\n",
      "Mean : Train - 0.9980; Test - 0.9972\n",
      "Std  : Train - 0.0002; Test - 0.0000\n",
      "------------------------------------------------------------\n",
      "============================================================\n",
      "Model performance on test set\n",
      "------------------------------------------------------------\n",
      "acc: 0.997175\n",
      "------------------------------------------------------------\n"
     ]
    },
    {
     "name": "stderr",
     "output_type": "stream",
     "text": [
      "../../../_Dist/NeuralNetworks/c_NeuralNetwork/NNCore.py:1015: UserWarning: Early stopped at n_epoch=19 due to 'Performance not improving'\n",
      "  warnings.warn(warn_msg)\n"
     ]
    }
   ],
   "source": [
    "from Toolbox import NB2NNWrapper\n",
    "\n",
    "nn = NB2NNWrapper(\n",
    "    \"Mushroom\",\n",
    "    verbose_settings={\"metric\": \"acc\"}\n",
    ").fit(x_train, y_train, x_test, y_test)"
   ]
  }
 ],
 "metadata": {
  "anaconda-cloud": {},
  "kernelspec": {
   "display_name": "Python [conda root]",
   "language": "python",
   "name": "conda-root-py"
  },
  "language_info": {
   "codemirror_mode": {
    "name": "ipython",
    "version": 3
   },
   "file_extension": ".py",
   "mimetype": "text/x-python",
   "name": "python",
   "nbconvert_exporter": "python",
   "pygments_lexer": "ipython3",
   "version": "3.5.2"
  }
 },
 "nbformat": 4,
 "nbformat_minor": 1
}
