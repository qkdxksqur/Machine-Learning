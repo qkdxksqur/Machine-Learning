{
 "cells": [
  {
   "cell_type": "code",
   "execution_count": 1,
   "metadata": {},
   "outputs": [],
   "source": [
    "import sys\n",
    "sys.path.append(\"../../../\")\n",
    "from Util.Util import DataUtil\n",
    "\n",
    "train_num = 6000\n",
    "(x_train, y_train), (x_test, y_test) = DataUtil.get_dataset(\n",
    "    \"mushroom\", \"../../../_Data/mushroom.txt\",\n",
    "    train_num=train_num, tar_idx=0\n",
    ")\n",
    "x_train, y_train, wc, features, feat_dicts, label_dict = DataUtil.quantize_data(x_train, y_train)\n",
    "x_test, y_test = DataUtil.transform_data(x_test, y_test, wc, feat_dicts, label_dict)\n",
    "\n",
    "from sklearn.preprocessing import OneHotEncoder\n",
    "enc = OneHotEncoder()\n",
    "x_train = enc.fit_transform(x_train).toarray()\n",
    "x_test = enc.transform(x_test).toarray()"
   ]
  },
  {
   "cell_type": "code",
   "execution_count": 2,
   "metadata": {
    "scrolled": true
   },
   "outputs": [
    {
     "name": "stdout",
     "output_type": "stream",
     "text": [
      "============================================================\n",
      "Naive Bayes performance\n",
      "------------------------------------------------------------\n",
      "Train :  0.955166666667\n",
      "Test  :  0.953389830508\n",
      "------------------------------------------------------------\n",
      "============================================================\n",
      "This is a 2-classes problem\n",
      "------------------------------------------------------------\n",
      "Data     : 6000 training samples, 2124 test samples\n",
      "Features : 0 categorical, 117 numerical\n",
      "============================================================\n",
      "Deep model input: Continuous features only\n",
      "------------------------------------------------------------\n",
      "Using raw values in categorical columns without embedding\n",
      "------------------------------------------------------------\n",
      "Using dropout with keep_prob = 0.5\n",
      "Training without batch norm\n",
      "Hidden units: []\n",
      "============================================================\n",
      "Hyper parameters\n",
      "------------------------------------------------------------\n",
      "Activation   : Linear\n",
      "Batch size   : 128\n",
      "Epoch num    : 20\n",
      "Optimizer    : Adam\n",
      "Metric       : acc\n",
      "Loss         : cross_entropy\n",
      "lr           : 0.001\n",
      "lb           : 0.0\n",
      "------------------------------------------------------------\n",
      "============================================================\n",
      "Initial performance\n",
      "------------------------------------------------------------\n",
      "Train acc: 0.955167\n",
      "Test  acc: 0.953390\n",
      "------------------------------------------------------------\n",
      "\n",
      "## #     Main     # (20 : 0 -> 20) Task Finished. Time Cost:   0 h   0 min  1.211 s; Average:   0 h   0 min 0.06056 s  ##min 0.06105 s \n",
      "Test acc: 0.997175\n"
     ]
    }
   ],
   "source": [
    "from Toolbox import NB2NNWrapper\n",
    "\n",
    "nn = NB2NNWrapper(\n",
    "    \"Mushroom\", [True] * 117 + [False], [(0, 1) for _ in range(118)],\n",
    "    verbose_settings={\"metric\": \"acc\"}\n",
    ").fit(x_train, y_train, x_test, y_test)"
   ]
  }
 ],
 "metadata": {
  "anaconda-cloud": {},
  "kernelspec": {
   "display_name": "Python 3",
   "language": "python",
   "name": "python3"
  },
  "language_info": {
   "codemirror_mode": {
    "name": "ipython",
    "version": 3
   },
   "file_extension": ".py",
   "mimetype": "text/x-python",
   "name": "python",
   "nbconvert_exporter": "python",
   "pygments_lexer": "ipython3",
   "version": "3.6.1"
  }
 },
 "nbformat": 4,
 "nbformat_minor": 1
}
