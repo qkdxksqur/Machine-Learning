{
 "cells": [
  {
   "cell_type": "code",
   "execution_count": 1,
   "metadata": {
    "collapsed": true
   },
   "outputs": [],
   "source": [
    "import os\n",
    "import sys\n",
    "root_path = os.path.abspath(\"../../../\")\n",
    "if root_path not in sys.path:\n",
    "    sys.path.append(root_path)"
   ]
  },
  {
   "cell_type": "code",
   "execution_count": 2,
   "metadata": {
    "scrolled": true
   },
   "outputs": [
    {
     "name": "stdout",
     "output_type": "stream",
     "text": [
      "Fetching data\n",
      "Fetching data\n",
      "Generating data info\n",
      "Generating numerical_idx\n",
      "Transforming data\n",
      "Transforming data\n",
      "Caching data...\n"
     ]
    },
    {
     "name": "stderr",
     "output_type": "stream",
     "text": [
      "D:\\Software\\Dev\\Anaconda3\\lib\\site-packages\\tensorflow\\python\\ops\\gradients_impl.py:96: UserWarning: Converting sparse IndexedSlices to a dense Tensor of unknown shape. This may consume a large amount of memory.\n",
      "  \"Converting sparse IndexedSlices to a dense Tensor of unknown shape. \"\n"
     ]
    },
    {
     "name": "stdout",
     "output_type": "stream",
     "text": [
      "============================================================\n",
      "This is a 2-classes problem\n",
      "------------------------------------------------------------\n",
      "Data     : 43957 training samples, 4885 test samples\n",
      "Features : 13 categorical, 1 numerical\n",
      "============================================================\n",
      "Deep model: DNN\n",
      "Deep model input: Continuous features with embeddings\n",
      "------------------------------------------------------------\n",
      "Embedding size: 8\n",
      "Actual feature dimension: 105\n",
      "------------------------------------------------------------\n",
      "Using dropout with keep_prob = 0.5\n",
      "Training without batch norm\n",
      "Hidden units: (512, 512)\n",
      "============================================================\n",
      "Wide model: DNDF\n",
      "Wide model input: Continuous features only\n",
      "------------------------------------------------------------\n",
      "Using DNDF with n_tree = 16, tree_depth = 4\n",
      "============================================================\n",
      "Hyper parameters\n",
      "------------------------------------------------------------\n",
      "This is a hybrid model\n",
      "------------------------------------------------------------\n",
      "Activation       : ['relu', 'relu']\n",
      "Batch size       : 128\n",
      "Epoch num        : 32\n",
      "Optimizer        : Adam\n",
      "Metric           : acc\n",
      "Loss             : cross_entropy\n",
      "lr               : 0.001\n",
      "------------------------------------------------------------\n",
      "Pruner           : \n",
      "-> alpha         : 0.0001\n",
      "-> beta          : 1\n",
      "-> eps           : 1e-12\n",
      "-> gamma         : 1\n",
      "-> max_ratio     : 1.0\n",
      "-> method        : hard_prune\n",
      "------------------------------------------------------------\n",
      "\n",
      "Epoch    1   Iter      342   Snapshot      3 (acc)  -  Train : 0.865301   Test : 0.862845  -  Current run (3) leads to best checkpoint we've ever had, saving checkpoint in case we need to restore\n",
      "Epoch    2   Iter      684   Snapshot      6 (acc)  -  Train : 0.852332   Test : 0.864074  -  Current run (6) leads to best checkpoint we've ever had, saving checkpoint in case we need to restore\n",
      "Epoch    8   Iter     2622   Snapshot     23 (acc)  -  Train : 0.854152   Test : 0.864893  -  Current run (23) leads to best result we've ever had, saving checkpoint since performance has improved significantly\n",
      "Epoch   24   Iter     8208   Snapshot     72 (acc)  -  Train : 0.870535   Test : 0.865302  -  Current run (72) leads to best result we've ever had, saving checkpoint since performance has improved significantly\n",
      "Epoch   26   Iter     8892   Snapshot     78 (acc)  -  Train : 0.860751   Test : 0.866121  -  Current run (78) leads to best checkpoint we've ever had, saving checkpoint in case we need to restore\n",
      "Epoch   27   Iter     9234   Snapshot     81 (acc)  -  Train : 0.860751   Test :  0.86653  -  Current run (81) leads to best checkpoint we've ever had, saving checkpoint in case we need to restore\n",
      "Epoch   32   Iter    10944   Snapshot     96 (acc)  -  Train : 0.868259   Test : 0.862027  -  Extending n_epoch to 37\n",
      "Epoch   34   Iter    11400   Snapshot    100 (acc)  -  Train : 0.859841   Test :  0.86653  -  Current run (100) leads to best result we've ever had, saving checkpoint since performance has improved significantly\n",
      "Epoch   37   Iter    12654   Snapshot    111 (acc)  -  Train : 0.864164   Test :  0.86305  -  Extending n_epoch to 42\n",
      "Epoch   42   Iter    14364   Snapshot    126 (acc)  -  Train : 0.868942   Test : 0.864483  -  Extending n_epoch to 47\n",
      "Epoch   47   Iter    16074   Snapshot    141 (acc)  -  Train :  0.87099   Test : 0.864074  -  Extending n_epoch to 52\n",
      "Epoch   49   Iter    16644   Snapshot    146 (acc)  -  Train : 0.858476   Test :  0.86653  -  Current run (146) leads to best result we've ever had, saving checkpoint since we've suffered from over-fitting\n",
      "Epoch   50   Iter    16986   Snapshot    149 (acc)  -  Train : 0.871445   Test : 0.867144  -  Current run (149) seems to be working well, saving checkpoint in case we need to restore\n",
      "Epoch   52   Iter    17784   Snapshot    156 (acc)  -  Train : 0.877361   Test :  0.86694  -  Extending n_epoch to 57\n",
      "Epoch   53   Iter    18012   Snapshot    158 (acc)  -  Train : 0.872127   Test : 0.868168  -  Current run (158) leads to best result we've ever had, saving checkpoint since performance has improved significantly\n",
      "Epoch   57   Iter    19608   Snapshot    172 (acc)  -  Train : 0.861433   Test : 0.862231  -  Extending n_epoch to 62\n",
      "Epoch   62   Iter    21318   Snapshot    187 (acc)  -  Train : 0.874403   Test : 0.863664  -  Extending n_epoch to 67\n",
      "Epoch   67   Iter    22800   Snapshot    200 (acc)  -  Train : 0.864391   Test : 0.859365  -  Early stopped at n_epoch=67 due to 'Over-fitting'\n",
      "  -  Rolling back to the best checkpoint\n",
      "INFO:tensorflow:Restoring parameters from _Models\\Adult_(512, 512)_True(dndf)_True(prune)\\tmp\\Model\n",
      "  -  Time Cost: 393.83469319343567\n"
     ]
    }
   ],
   "source": [
    "from _Dist.NeuralNetworks.f_AutoNN.NN import Auto\n",
    "\n",
    "nn = Auto(name=\"Adult\", file_type=\"csv\").fit()"
   ]
  },
  {
   "cell_type": "code",
   "execution_count": 3,
   "metadata": {},
   "outputs": [
    {
     "data": {
      "image/png": "[encoded data removed]",
      "text/plain": [
       "<matplotlib.figure.Figure at 0x20028d45630>"
      ]
     },
     "metadata": {},
     "output_type": "display_data"
    }
   ],
   "source": [
    "import numpy as np\n",
    "import matplotlib.pyplot as plt\n",
    "%matplotlib inline\n",
    "\n",
    "el, il = nn.log[\"epoch_loss\"], nn.log[\"iter_loss\"]\n",
    "ee_base = np.arange(len(el))\n",
    "ie_base = np.linspace(0, len(el) - 1, len(il))\n",
    "plt.figure()\n",
    "plt.plot(ie_base, il, label=\"Iter loss\")\n",
    "plt.plot(ee_base, el, linewidth=3, label=\"Epoch loss\")\n",
    "plt.legend()\n",
    "plt.show()"
   ]
  }
 ],
 "metadata": {
  "anaconda-cloud": {},
  "kernelspec": {
   "display_name": "Python 3",
   "language": "python",
   "name": "python3"
  },
  "language_info": {
   "codemirror_mode": {
    "name": "ipython",
    "version": 3
   },
   "file_extension": ".py",
   "mimetype": "text/x-python",
   "name": "python",
   "nbconvert_exporter": "python",
   "pygments_lexer": "ipython3",
   "version": "3.6.1"
  }
 },
 "nbformat": 4,
 "nbformat_minor": 1
}
