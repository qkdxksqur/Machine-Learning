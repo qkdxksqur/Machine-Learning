{
 "cells": [
  {
   "cell_type": "code",
   "execution_count": 1,
   "metadata": {
    "collapsed": true
   },
   "outputs": [],
   "source": [
    "import os\n",
    "import sys\n",
    "root_path = os.path.abspath(\"../../../\")\n",
    "if root_path not in sys.path:\n",
    "    sys.path.append(root_path)"
   ]
  },
  {
   "cell_type": "code",
   "execution_count": 2,
   "metadata": {
    "scrolled": true
   },
   "outputs": [
    {
     "name": "stdout",
     "output_type": "stream",
     "text": [
      "Fetching data\n",
      "Fetching data\n",
      "Generating data info\n",
      "Generating numerical_idx\n",
      "Transforming data\n",
      "Transforming data\n",
      "Caching data...\n"
     ]
    },
    {
     "name": "stderr",
     "output_type": "stream",
     "text": [
      "D:\\Software\\Dev\\Anaconda3\\lib\\site-packages\\tensorflow\\python\\ops\\gradients_impl.py:96: UserWarning: Converting sparse IndexedSlices to a dense Tensor of unknown shape. This may consume a large amount of memory.\n",
      "  \"Converting sparse IndexedSlices to a dense Tensor of unknown shape. \"\n"
     ]
    },
    {
     "name": "stdout",
     "output_type": "stream",
     "text": [
      "============================================================\n",
      "This is a 2-classes problem\n",
      "------------------------------------------------------------\n",
      "Data     : 43957 training samples, 4885 test samples\n",
      "Features : 13 categorical, 1 numerical\n",
      "============================================================\n",
      "Deep model: DNN\n",
      "Deep model input: Continuous features with embeddings\n",
      "------------------------------------------------------------\n",
      "Embedding size: 8\n",
      "Actual feature dimension: 105\n",
      "------------------------------------------------------------\n",
      "Using dropout with keep_prob = 0.5\n",
      "Training without batch norm\n",
      "Hidden units: [512, 512]\n",
      "============================================================\n",
      "Wide model: DNDF\n",
      "Wide model input: Continuous features only\n",
      "------------------------------------------------------------\n",
      "Using DNDF with n_tree = 16, tree_depth = 4\n",
      "============================================================\n",
      "Hyper parameters\n",
      "------------------------------------------------------------\n",
      "This is a hybrid model\n",
      "------------------------------------------------------------\n",
      "Activation       : ['relu', 'relu']\n",
      "Batch size       : 128\n",
      "Epoch num        : 20\n",
      "Optimizer        : Adam\n",
      "Metric           : acc\n",
      "Loss             : cross_entropy\n",
      "lr               : 0.001\n",
      "------------------------------------------------------------\n",
      "Pruner           : \n",
      "-> alpha         : 0.0001\n",
      "-> beta          : 1\n",
      "-> eps           : 1e-12\n",
      "-> gamma         : 1\n",
      "-> max_ratio     : 1.0\n",
      "-> method        : hard_prune\n",
      "------------------------------------------------------------\n",
      "\n",
      "Epoch    1   Iter      342   Snapshot      3 (acc)  -  Train : 0.764733   Test : 0.770727  -  Current run (3) leads to best checkpoint we've ever had, saving checkpoint in case we need to restore\n",
      "Epoch    3   Iter     1026   Snapshot      9 (acc)  -  Train : 0.811604   Test : 0.813511  -  Current run (9) leads to best checkpoint we've ever had, saving checkpoint in case we need to restore\n",
      "Epoch    4   Iter     1140   Snapshot     10 (acc)  -  Train : 0.845734   Test : 0.843193  -  Current run (10) leads to best result we've ever had, saving checkpoint since performance has improved significantly\n",
      "Epoch    4   Iter     1368   Snapshot     12 (acc)  -  Train : 0.844369   Test : 0.847492  -  Current run (12) leads to best checkpoint we've ever had, saving checkpoint in case we need to restore\n",
      "Epoch    5   Iter     1710   Snapshot     15 (acc)  -  Train : 0.851195   Test : 0.854043  -  Current run (15) leads to best checkpoint we've ever had, saving checkpoint in case we need to restore\n",
      "Epoch    6   Iter     2052   Snapshot     18 (acc)  -  Train :  0.85347   Test : 0.854657  -  Current run (18) leads to best checkpoint we've ever had, saving checkpoint in case we need to restore\n",
      "Epoch    7   Iter     2394   Snapshot     21 (acc)  -  Train : 0.850057   Test :  0.85998  -  Current run (21) leads to best checkpoint we've ever had, saving checkpoint in case we need to restore\n",
      "Epoch    8   Iter     2736   Snapshot     24 (acc)  -  Train : 0.849829   Test : 0.860184  -  Current run (24) leads to best checkpoint we've ever had, saving checkpoint in case we need to restore\n",
      "Epoch    9   Iter     3078   Snapshot     27 (acc)  -  Train : 0.852787   Test : 0.861412  -  Current run (27) leads to best checkpoint we've ever had, saving checkpoint in case we need to restore\n",
      "Epoch   10   Iter     3420   Snapshot     30 (acc)  -  Train : 0.856655   Test : 0.862231  -  Current run (30) leads to best checkpoint we've ever had, saving checkpoint in case we need to restore\n",
      "Epoch   11   Iter     3762   Snapshot     33 (acc)  -  Train : 0.864391   Test : 0.865916  -  Current run (33) leads to best checkpoint we've ever had, saving checkpoint in case we need to restore\n",
      "Epoch   15   Iter     5016   Snapshot     44 (acc)  -  Train :   0.8562   Test : 0.866325  -  Current run (44) leads to best result we've ever had, saving checkpoint since we've suffered from over-fitting\n",
      "Epoch   20   Iter     6840   Snapshot     60 (acc)  -  Train :  0.85802   Test : 0.864688  -  Model seems to be under-fitting but max_epoch reached. Increasing max_epoch may improve performance\n",
      "  -  Time Cost: 180.9985237121582\n"
     ]
    }
   ],
   "source": [
    "from _Dist.NeuralNetworks.f_AutoNN.NN import Auto\n",
    "\n",
    "nn = Auto(\n",
    "    \"Adult\",\n",
    "    data_info={\"file_type\": \"csv\"},\n",
    "    model_param_settings={\"max_epoch\": 20}\n",
    ").fit()"
   ]
  },
  {
   "cell_type": "code",
   "execution_count": 3,
   "metadata": {},
   "outputs": [
    {
     "data": {
      "image/png": "[encoded data removed]",
      "text/plain": [
       "<matplotlib.figure.Figure at 0x166e4394ba8>"
      ]
     },
     "metadata": {},
     "output_type": "display_data"
    }
   ],
   "source": [
    "import numpy as np\n",
    "import matplotlib.pyplot as plt\n",
    "%matplotlib inline\n",
    "\n",
    "el, il = nn.log[\"epoch_loss\"], nn.log[\"iter_loss\"]\n",
    "ee_base = np.arange(len(el))\n",
    "ie_base = np.linspace(0, len(el) - 1, len(il))\n",
    "plt.figure()\n",
    "plt.plot(ie_base, il, label=\"Iter loss\")\n",
    "plt.plot(ee_base, el, linewidth=3, label=\"Epoch loss\")\n",
    "plt.legend()\n",
    "plt.show()"
   ]
  }
 ],
 "metadata": {
  "anaconda-cloud": {},
  "kernelspec": {
   "display_name": "Python 3",
   "language": "python",
   "name": "python3"
  },
  "language_info": {
   "codemirror_mode": {
    "name": "ipython",
    "version": 3
   },
   "file_extension": ".py",
   "mimetype": "text/x-python",
   "name": "python",
   "nbconvert_exporter": "python",
   "pygments_lexer": "ipython3",
   "version": "3.6.1"
  }
 },
 "nbformat": 4,
 "nbformat_minor": 1
}
