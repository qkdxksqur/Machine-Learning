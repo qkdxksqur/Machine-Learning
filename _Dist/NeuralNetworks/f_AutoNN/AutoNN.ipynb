{
 "cells": [
  {
   "cell_type": "code",
   "execution_count": 1,
   "metadata": {
    "collapsed": true
   },
   "outputs": [],
   "source": [
    "import os\n",
    "import sys\n",
    "root_path = os.path.abspath(\"../../../\")\n",
    "if root_path not in sys.path:\n",
    "    sys.path.append(root_path)"
   ]
  },
  {
   "cell_type": "code",
   "execution_count": 2,
   "metadata": {
    "scrolled": true
   },
   "outputs": [
    {
     "name": "stdout",
     "output_type": "stream",
     "text": [
      "Fetching data\n",
      "Fetching data\n",
      "Generating data info\n",
      "Generating numerical_idx\n",
      "Transforming data\n",
      "Transforming data\n",
      "Caching data...\n"
     ]
    },
    {
     "name": "stderr",
     "output_type": "stream",
     "text": [
      "D:\\Software\\Dev\\Anaconda3\\lib\\site-packages\\tensorflow\\python\\ops\\gradients_impl.py:96: UserWarning: Converting sparse IndexedSlices to a dense Tensor of unknown shape. This may consume a large amount of memory.\n",
      "  \"Converting sparse IndexedSlices to a dense Tensor of unknown shape. \"\n"
     ]
    },
    {
     "name": "stdout",
     "output_type": "stream",
     "text": [
      "============================================================\n",
      "This is a 2-classes problem\n",
      "------------------------------------------------------------\n",
      "Data     : 43957 training samples, 4885 test samples\n",
      "Features : 13 categorical, 1 numerical\n",
      "============================================================\n",
      "Deep model: DNN\n",
      "Deep model input: Continuous features with embeddings\n",
      "------------------------------------------------------------\n",
      "Embedding size: 8\n",
      "Actual feature dimension: 105\n",
      "------------------------------------------------------------\n",
      "Using dropout with keep_prob = 0.5\n",
      "Training without batch norm\n",
      "Hidden units: [512, 512]\n",
      "============================================================\n",
      "Wide model: DNDF\n",
      "Wide model input: Continuous features only\n",
      "------------------------------------------------------------\n",
      "Using DNDF with n_tree = 16, tree_depth = 4\n",
      "============================================================\n",
      "Hyper parameters\n",
      "------------------------------------------------------------\n",
      "This is a hybrid model\n",
      "------------------------------------------------------------\n",
      "Activation       : ['relu', 'relu']\n",
      "Batch size       : 128\n",
      "Epoch num        : 32\n",
      "Optimizer        : Adam\n",
      "Metric           : acc\n",
      "Loss             : cross_entropy\n",
      "lr               : 0.001\n",
      "------------------------------------------------------------\n",
      "Pruner           : \n",
      "-> alpha         : 0.0001\n",
      "-> beta          : 1\n",
      "-> eps           : 1e-12\n",
      "-> gamma         : 1\n",
      "-> max_ratio     : 1.0\n",
      "-> method        : hard_prune\n",
      "------------------------------------------------------------\n",
      "\n",
      "Epoch    1   Iter      342   Snapshot      3 (acc)  -  Train : 0.852105   Test : 0.861822  -  Current run (3) leads to best result we've ever had, saving checkpoint since we've suffered from over-fitting\n",
      "Epoch    2   Iter      684   Snapshot      6 (acc)  -  Train : 0.855973   Test : 0.862845  -  Current run (6) leads to best checkpoint we've ever had, saving checkpoint in case we need to restore\n",
      "Epoch    3   Iter      912   Snapshot      8 (acc)  -  Train : 0.852332   Test : 0.865507  -  Current run (8) seems to be working well, saving checkpoint in case we need to restore\n",
      "Epoch   16   Iter     5358   Snapshot     47 (acc)  -  Train : 0.860523   Test : 0.866735  -  Current run (47) leads to best result we've ever had, saving checkpoint since performance has improved significantly\n",
      "Epoch   19   Iter     6384   Snapshot     56 (acc)  -  Train : 0.859613   Test : 0.867144  -  Current run (56) leads to best result we've ever had, saving checkpoint since performance has improved significantly\n",
      "Epoch   20   Iter     6840   Snapshot     60 (acc)  -  Train : 0.857338   Test : 0.865711  -  Model seems to be under-fitting but max_epoch reached. Increasing max_epoch may improve performance.\n",
      "  -  Rolling back to the best checkpoint\n",
      "INFO:tensorflow:Restoring parameters from _Models\\Adult_[512, 512]_True(dndf)_True(prune)\\tmp\\Model\n",
      "  -  Time Cost: 126.14499306678772\n"
     ]
    }
   ],
   "source": [
    "from _Dist.NeuralNetworks.f_AutoNN.NN import Auto\n",
    "\n",
    "nn = Auto(\n",
    "    name=\"Adult\",\n",
    "    data_info={\"file_type\": \"csv\"},\n",
    "    model_param_settings={\"max_epoch\": 20}\n",
    ").fit()"
   ]
  },
  {
   "cell_type": "code",
   "execution_count": 3,
   "metadata": {},
   "outputs": [
    {
     "data": {
      "image/png": "[encoded data removed]",
      "text/plain": [
       "<matplotlib.figure.Figure at 0x20c82fd6dd8>"
      ]
     },
     "metadata": {},
     "output_type": "display_data"
    }
   ],
   "source": [
    "import numpy as np\n",
    "import matplotlib.pyplot as plt\n",
    "%matplotlib inline\n",
    "\n",
    "el, il = nn.log[\"epoch_loss\"], nn.log[\"iter_loss\"]\n",
    "ee_base = np.arange(len(el))\n",
    "ie_base = np.linspace(0, len(el) - 1, len(il))\n",
    "plt.figure()\n",
    "plt.plot(ie_base, il, label=\"Iter loss\")\n",
    "plt.plot(ee_base, el, linewidth=3, label=\"Epoch loss\")\n",
    "plt.legend()\n",
    "plt.show()"
   ]
  }
 ],
 "metadata": {
  "anaconda-cloud": {},
  "kernelspec": {
   "display_name": "Python 3",
   "language": "python",
   "name": "python3"
  },
  "language_info": {
   "codemirror_mode": {
    "name": "ipython",
    "version": 3
   },
   "file_extension": ".py",
   "mimetype": "text/x-python",
   "name": "python",
   "nbconvert_exporter": "python",
   "pygments_lexer": "ipython3",
   "version": "3.6.1"
  }
 },
 "nbformat": 4,
 "nbformat_minor": 1
}
