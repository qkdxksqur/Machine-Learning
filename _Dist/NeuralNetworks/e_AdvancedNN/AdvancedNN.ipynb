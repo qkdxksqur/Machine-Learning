{
 "cells": [
  {
   "cell_type": "code",
   "execution_count": 1,
   "metadata": {
    "collapsed": true
   },
   "outputs": [],
   "source": [
    "import os\n",
    "import sys\n",
    "root_path = os.path.abspath(\"../../../\")\n",
    "if root_path not in sys.path:\n",
    "    sys.path.append(root_path)\n",
    "\n",
    "from Util.Util import DataUtil\n",
    "\n",
    "(x, y), (x_test, y_test) = DataUtil.gen_noisy_linear(one_hot=False)\n",
    "x_train, x_cv = x[:9000], x[9000:]\n",
    "y_train, y_cv = y[:9000], y[9000:]"
   ]
  },
  {
   "cell_type": "code",
   "execution_count": 2,
   "metadata": {
    "collapsed": true
   },
   "outputs": [],
   "source": [
    "import numpy as np\n",
    "import matplotlib.pyplot as plt\n",
    "%matplotlib inline\n",
    "\n",
    "def draw_losses(*models):\n",
    "    plt.figure()\n",
    "    for nn in models:\n",
    "        name = str(nn)\n",
    "        el, tl = nn.log[\"epoch_loss\"], nn.log[\"test_snapshot_loss\"]\n",
    "        ee_base = np.arange(len(el))\n",
    "        cse_base = np.linspace(0, len(el) - 1, len(tl))\n",
    "        plt.plot(ee_base, el, label=\"Train loss ({})\".format(name))\n",
    "        plt.plot(cse_base, tl, label=\"Test loss ({})\".format(name))\n",
    "        plt.legend()\n",
    "    plt.show()"
   ]
  },
  {
   "cell_type": "code",
   "execution_count": 3,
   "metadata": {
    "scrolled": false
   },
   "outputs": [
    {
     "name": "stdout",
     "output_type": "stream",
     "text": [
      "Epoch    1   Iter      126   Snapshot      3 (acc)  -  Train : 0.862222   Test :    0.823  -  Current run (3) leads to best checkpoint we've ever had, saving checkpoint in case we need to restore\n",
      "Epoch    7   Iter      882   Snapshot     21 (acc)  -  Train :     0.98   Test :    0.776  -  Early stopped at n_epoch=7 due to 'Over-fitting'\n",
      "  -  Rolling back to the best checkpoint\n",
      "INFO:tensorflow:Restoring parameters from _Models\\BasicNN_(256, 256)\\tmp\\Model\n",
      "  -  Time Cost: 2.3488619327545166\n"
     ]
    }
   ],
   "source": [
    "from _Dist.NeuralNetworks.c_BasicNN.NN import Basic\n",
    "\n",
    "basic = Basic(x_train, y_train, x_cv, y_cv).fit()"
   ]
  },
  {
   "cell_type": "code",
   "execution_count": 4,
   "metadata": {
    "collapsed": true,
    "scrolled": true
   },
   "outputs": [],
   "source": [
    "from _Dist.NeuralNetworks.e_AdvancedNN.NN import Advanced\n",
    "\n",
    "numerical_idx = [True] * 100 + [False]\n",
    "categorical_columns = []"
   ]
  },
  {
   "cell_type": "code",
   "execution_count": 5,
   "metadata": {},
   "outputs": [
    {
     "name": "stdout",
     "output_type": "stream",
     "text": [
      "============================================================\n",
      "This is a 2-classes problem\n",
      "------------------------------------------------------------\n",
      "Data     : 9000 training samples, 1000 test samples\n",
      "Features : 0 categorical, 100 numerical\n",
      "============================================================\n",
      "Deep model: DNN\n",
      "Deep model input: Continuous features only\n",
      "------------------------------------------------------------\n",
      "------------------------------------------------------------\n",
      "Using dropout with keep_prob = 0.5\n",
      "Training without batch norm\n",
      "Hidden units: (256, 256)\n",
      "============================================================\n",
      "Wide model: logistic regression\n",
      "Wide model input: Continuous features only\n",
      "------------------------------------------------------------\n",
      "============================================================\n",
      "Hyper parameters\n",
      "------------------------------------------------------------\n",
      "This is a Wide & Deep model\n",
      "------------------------------------------------------------\n",
      "Activation       : ['relu', 'relu']\n",
      "Batch size       : 128\n",
      "Epoch num        : 32\n",
      "Optimizer        : Adam\n",
      "Metric           : acc\n",
      "Loss             : cross_entropy\n",
      "lr               : 0.001\n",
      "------------------------------------------------------------\n",
      "Pruner           : None\n",
      "------------------------------------------------------------\n",
      "\n",
      "Epoch    1   Iter      126   Snapshot      3 (acc)  -  Train : 0.867778   Test :    0.827  -  Current run (3) leads to best checkpoint we've ever had, saving checkpoint in case we need to restore\n",
      "Epoch    2   Iter      252   Snapshot      6 (acc)  -  Train : 0.881111   Test :     0.83  -  Current run (6) leads to best checkpoint we've ever had, saving checkpoint in case we need to restore\n",
      "Epoch    3   Iter      378   Snapshot      9 (acc)  -  Train : 0.888889   Test :    0.833  -  Current run (9) leads to best checkpoint we've ever had, saving checkpoint in case we need to restore\n",
      "Epoch    5   Iter      546   Snapshot     13 (acc)  -  Train : 0.877778   Test :    0.834  -  Current run (13) seems to be working well, saving checkpoint in case we need to restore\n",
      "Epoch    5   Iter      588   Snapshot     14 (acc)  -  Train : 0.901111   Test :    0.839  -  Current run (14) leads to best result we've ever had, saving checkpoint since performance has improved significantly\n",
      "Epoch   15   Iter     1890   Snapshot     45 (acc)  -  Train : 0.962222   Test :    0.818  -  Early stopped at n_epoch=15 due to 'Over-fitting'\n",
      "  -  Rolling back to the best checkpoint\n",
      "INFO:tensorflow:Restoring parameters from _Models\\AdvancedNN_(256, 256)_False(dndf)_False(prune)\\tmp\\Model\n",
      "  -  Time Cost: 6.913809299468994\n"
     ]
    }
   ],
   "source": [
    "wnd = Advanced(\n",
    "    x_train, y_train, x_cv, y_cv, use_dndf=False, use_pruner=False,\n",
    "    numerical_idx=numerical_idx, categorical_columns=categorical_columns\n",
    ").fit()"
   ]
  },
  {
   "cell_type": "code",
   "execution_count": 6,
   "metadata": {},
   "outputs": [
    {
     "name": "stderr",
     "output_type": "stream",
     "text": [
      "D:\\Software\\Dev\\Anaconda3\\lib\\site-packages\\tensorflow\\python\\ops\\gradients_impl.py:96: UserWarning: Converting sparse IndexedSlices to a dense Tensor of unknown shape. This may consume a large amount of memory.\n",
      "  \"Converting sparse IndexedSlices to a dense Tensor of unknown shape. \"\n"
     ]
    },
    {
     "name": "stdout",
     "output_type": "stream",
     "text": [
      "============================================================\n",
      "This is a 2-classes problem\n",
      "------------------------------------------------------------\n",
      "Data     : 9000 training samples, 1000 test samples\n",
      "Features : 0 categorical, 100 numerical\n",
      "============================================================\n",
      "Deep model: DNN\n",
      "Deep model input: Continuous features only\n",
      "------------------------------------------------------------\n",
      "------------------------------------------------------------\n",
      "Using dropout with keep_prob = 0.5\n",
      "Training without batch norm\n",
      "Hidden units: (256, 256)\n",
      "============================================================\n",
      "Wide model: DNDF\n",
      "Wide model input: Continuous features only\n",
      "------------------------------------------------------------\n",
      "Using DNDF with n_tree = 16, tree_depth = 4\n",
      "============================================================\n",
      "Hyper parameters\n",
      "------------------------------------------------------------\n",
      "This is a hybrid model\n",
      "------------------------------------------------------------\n",
      "Activation       : ['relu', 'relu']\n",
      "Batch size       : 128\n",
      "Epoch num        : 32\n",
      "Optimizer        : Adam\n",
      "Metric           : acc\n",
      "Loss             : cross_entropy\n",
      "lr               : 0.001\n",
      "------------------------------------------------------------\n",
      "Pruner           : None\n",
      "------------------------------------------------------------\n",
      "\n",
      "Epoch    1   Iter      126   Snapshot      3 (acc)  -  Train : 0.862222   Test :    0.833  -  Current run (3) leads to best checkpoint we've ever had, saving checkpoint in case we need to restore\n",
      "Epoch    3   Iter      378   Snapshot      9 (acc)  -  Train : 0.901111   Test :    0.835  -  Current run (9) leads to best checkpoint we've ever had, saving checkpoint in case we need to restore\n",
      "Epoch    4   Iter      504   Snapshot     12 (acc)  -  Train : 0.911111   Test :     0.84  -  Current run (12) leads to best checkpoint we've ever had, saving checkpoint in case we need to restore\n",
      "Epoch    7   Iter      882   Snapshot     21 (acc)  -  Train : 0.922222   Test :    0.844  -  Current run (21) leads to best result we've ever had, saving checkpoint since performance has improved significantly\n",
      "Epoch   13   Iter     1638   Snapshot     39 (acc)  -  Train : 0.971111   Test :    0.817  -  Early stopped at n_epoch=13 due to 'Over-fitting'\n",
      "  -  Rolling back to the best checkpoint\n",
      "INFO:tensorflow:Restoring parameters from _Models\\AdvancedNN_(256, 256)_True(dndf)_False(prune)\\tmp\\Model\n",
      "  -  Time Cost: 38.717607259750366\n"
     ]
    }
   ],
   "source": [
    "wnd_dndf = Advanced(\n",
    "    x_train, y_train, x_cv, y_cv, use_dndf=True, use_pruner=False,\n",
    "    numerical_idx=numerical_idx, categorical_columns=categorical_columns\n",
    ").fit()"
   ]
  },
  {
   "cell_type": "code",
   "execution_count": 7,
   "metadata": {},
   "outputs": [
    {
     "name": "stderr",
     "output_type": "stream",
     "text": [
      "D:\\Software\\Dev\\Anaconda3\\lib\\site-packages\\tensorflow\\python\\ops\\gradients_impl.py:96: UserWarning: Converting sparse IndexedSlices to a dense Tensor of unknown shape. This may consume a large amount of memory.\n",
      "  \"Converting sparse IndexedSlices to a dense Tensor of unknown shape. \"\n"
     ]
    },
    {
     "name": "stdout",
     "output_type": "stream",
     "text": [
      "============================================================\n",
      "This is a 2-classes problem\n",
      "------------------------------------------------------------\n",
      "Data     : 9000 training samples, 1000 test samples\n",
      "Features : 0 categorical, 100 numerical\n",
      "============================================================\n",
      "Deep model: DNN\n",
      "Deep model input: Continuous features only\n",
      "------------------------------------------------------------\n",
      "------------------------------------------------------------\n",
      "Using dropout with keep_prob = 0.5\n",
      "Training without batch norm\n",
      "Hidden units: (256, 256)\n",
      "============================================================\n",
      "Wide model: DNDF\n",
      "Wide model input: Continuous features only\n",
      "------------------------------------------------------------\n",
      "Using DNDF with n_tree = 16, tree_depth = 4\n",
      "============================================================\n",
      "Hyper parameters\n",
      "------------------------------------------------------------\n",
      "This is a hybrid model\n",
      "------------------------------------------------------------\n",
      "Activation       : ['relu', 'relu']\n",
      "Batch size       : 128\n",
      "Epoch num        : 32\n",
      "Optimizer        : Adam\n",
      "Metric           : acc\n",
      "Loss             : cross_entropy\n",
      "lr               : 0.001\n",
      "------------------------------------------------------------\n",
      "Pruner           : \n",
      "-> alpha         : 0.0001\n",
      "-> beta          : 1\n",
      "-> eps           : 1e-12\n",
      "-> gamma         : 1\n",
      "-> max_ratio     : 1.0\n",
      "-> method        : hard_prune\n",
      "------------------------------------------------------------\n",
      "\n",
      "Epoch    1   Iter      126   Snapshot      3 (acc)  -  Train : 0.855556   Test :    0.834  -  Current run (3) leads to best checkpoint we've ever had, saving checkpoint in case we need to restore\n",
      "Epoch    2   Iter      252   Snapshot      6 (acc)  -  Train : 0.867778   Test :    0.837  -  Current run (6) leads to best checkpoint we've ever had, saving checkpoint in case we need to restore\n",
      "Epoch    7   Iter      882   Snapshot     21 (acc)  -  Train :     0.88   Test :     0.84  -  Current run (21) leads to best result we've ever had, saving checkpoint since performance has improved significantly\n",
      "Epoch   32   Iter     4074   Snapshot     97 (acc)  -  Train : 0.954444   Test :    0.834  -  Extending n_epoch to 37\n",
      "Epoch   37   Iter     4704   Snapshot    112 (acc)  -  Train :     0.96   Test :    0.828  -  Extending n_epoch to 42\n",
      "Epoch   42   Iter     5376   Snapshot    128 (acc)  -  Train : 0.966667   Test :    0.819  -  Extending n_epoch to 47\n",
      "Epoch   47   Iter     6006   Snapshot    143 (acc)  -  Train : 0.986667   Test :    0.822  -  Extending n_epoch to 52\n",
      "Epoch   52   Iter     6636   Snapshot    158 (acc)  -  Train : 0.977778   Test :    0.829  -  Extending n_epoch to 57\n",
      "Epoch   57   Iter     7266   Snapshot    173 (acc)  -  Train : 0.988889   Test :    0.823  -  Extending n_epoch to 62\n",
      "Epoch   62   Iter     7896   Snapshot    188 (acc)  -  Train : 0.987778   Test :    0.824  -  Extending n_epoch to 67\n",
      "Epoch   67   Iter     8568   Snapshot    204 (acc)  -  Train : 0.984444   Test :    0.821  -  Extending n_epoch to 72\n",
      "Epoch   72   Iter     9156   Snapshot    218 (acc)  -  Train :     0.99   Test :    0.813  -  Early stopped at n_epoch=72 due to 'Over-fitting'\n",
      "  -  Rolling back to the best checkpoint\n",
      "INFO:tensorflow:Restoring parameters from _Models\\AdvancedNN_(256, 256)_True(dndf)_True(prune)\\tmp\\Model\n",
      "  -  Time Cost: 115.86434555053711\n"
     ]
    }
   ],
   "source": [
    "wnd_dndf_pruned = Advanced(\n",
    "    x_train, y_train, x_cv, y_cv, use_dndf=True, use_pruner=True,\n",
    "    numerical_idx=numerical_idx, categorical_columns=categorical_columns\n",
    ").fit()"
   ]
  },
  {
   "cell_type": "code",
   "execution_count": 8,
   "metadata": {},
   "outputs": [
    {
     "name": "stdout",
     "output_type": "stream",
     "text": [
      "BasicNN              acc  -  Train : 0.890444   CV :    0.823   Test : 0.906667\n",
      "WnD                  acc  -  Train : 0.895556   CV :    0.839   Test :     0.95\n",
      "WnD & DNDF           acc  -  Train : 0.921778   CV :    0.844   Test : 0.946667\n",
      "WnD & DNDF & Pruner  acc  -  Train : 0.893444   CV :     0.84   Test : 0.953333\n"
     ]
    },
    {
     "data": {
      "image/png": "[encoded data removed]",
      "text/plain": [
       "<matplotlib.figure.Figure at 0x1967c7c7710>"
      ]
     },
     "metadata": {},
     "output_type": "display_data"
    }
   ],
   "source": [
    "print(\"BasicNN              \", end=\"\")\n",
    "basic.evaluate(x_train, y_train, x_cv, y_cv, x_test, y_test)\n",
    "print(\"WnD                  \", end=\"\")\n",
    "wnd.evaluate(x_train, y_train, x_cv, y_cv, x_test, y_test)\n",
    "print(\"WnD & DNDF           \", end=\"\")\n",
    "wnd_dndf.evaluate(x_train, y_train, x_cv, y_cv, x_test, y_test)\n",
    "print(\"WnD & DNDF & Pruner  \", end=\"\")\n",
    "wnd_dndf_pruned.evaluate(x_train, y_train, x_cv, y_cv, x_test, y_test)\n",
    "draw_losses(basic, wnd_dndf, wnd_dndf_pruned)"
   ]
  }
 ],
 "metadata": {
  "anaconda-cloud": {},
  "kernelspec": {
   "display_name": "Python 3",
   "language": "python",
   "name": "python3"
  },
  "language_info": {
   "codemirror_mode": {
    "name": "ipython",
    "version": 3
   },
   "file_extension": ".py",
   "mimetype": "text/x-python",
   "name": "python",
   "nbconvert_exporter": "python",
   "pygments_lexer": "ipython3",
   "version": "3.6.1"
  }
 },
 "nbformat": 4,
 "nbformat_minor": 1
}
