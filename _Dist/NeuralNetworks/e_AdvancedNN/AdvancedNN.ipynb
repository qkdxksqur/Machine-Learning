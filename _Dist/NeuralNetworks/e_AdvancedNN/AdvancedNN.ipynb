{
 "cells": [
  {
   "cell_type": "code",
   "execution_count": 1,
   "metadata": {},
   "outputs": [],
   "source": [
    "import os\n",
    "import sys\n",
    "root_path = os.path.abspath(\"../../../\")\n",
    "if root_path not in sys.path:\n",
    "    sys.path.append(root_path)\n",
    "\n",
    "from Util.Util import DataUtil\n",
    "\n",
    "(x, y), (x_test, y_test) = DataUtil.gen_noisy_linear(one_hot=False)\n",
    "x_train, x_cv = x[:9000], x[9000:]\n",
    "y_train, y_cv = y[:9000], y[9000:]"
   ]
  },
  {
   "cell_type": "code",
   "execution_count": 2,
   "metadata": {
    "collapsed": true
   },
   "outputs": [],
   "source": [
    "import numpy as np\n",
    "import matplotlib.pyplot as plt\n",
    "%matplotlib inline\n",
    "\n",
    "def draw_losses(*models):\n",
    "    plt.figure()\n",
    "    for nn in models:\n",
    "        name = str(nn)\n",
    "        el, csl = nn.log[\"epoch_loss\"], nn.log[\"cv_snapshot_loss\"]\n",
    "        ee_base = np.arange(len(el))\n",
    "        cse_base = np.linspace(0, len(el) - 1, len(csl))\n",
    "        plt.plot(ee_base, el, label=\"Train loss ({})\".format(name))\n",
    "        plt.plot(cse_base, csl, label=\"CV loss ({})\".format(name))\n",
    "        plt.legend()\n",
    "    plt.show()"
   ]
  },
  {
   "cell_type": "code",
   "execution_count": 3,
   "metadata": {
    "scrolled": false
   },
   "outputs": [
    {
     "name": "stdout",
     "output_type": "stream",
     "text": [
      "Epoch    1   Iter  125   Snapshot    3 (acc)  -  Train : 0.882222   CV :    0.815  -  Current run (3) leads to best checkpoint we've ever had, saving checkpoint in case we need to restore\n",
      "Epoch    2   Iter  155   Snapshot    6 (acc)  -  Train : 0.921111   CV :    0.821  -  Current run (6) leads to best checkpoint we've ever had, saving checkpoint in case we need to restore\n",
      "Epoch   32   Iter 1097   Snapshot   97 (acc)  -  Train :      1.0   CV :    0.796  -  Extending n_epoch to 37\n",
      "Epoch   37   Iter 1427   Snapshot  112 (acc)  -  Train :      1.0   CV :    0.798  -  Extending n_epoch to 42\n",
      "Epoch   42   Iter 1849   Snapshot  128 (acc)  -  Train :      1.0   CV :    0.797  -  Extending n_epoch to 47\n",
      "Epoch   47   Iter 2279   Snapshot  143 (acc)  -  Train :      1.0   CV :    0.795  -  Extending n_epoch to 52\n",
      "Epoch   51   Iter 2709   Snapshot  155 (acc)  -  Train :      1.0   CV :    0.794  -  Early stopped at n_epoch=51 due to 'Performance not improving'\n",
      "  -  Rolling back to the best checkpoint\n",
      "INFO:tensorflow:Restoring parameters from _Models\\BasicNN_(256, 256)\\tmp\\Model\n",
      "  -  Time Cost: 8.837727546691895\n"
     ]
    }
   ],
   "source": [
    "from _Dist.NeuralNetworks.c_BasicNN.NN import Basic\n",
    "\n",
    "basic = Basic(x_train, y_train, x_cv, y_cv).fit()"
   ]
  },
  {
   "cell_type": "code",
   "execution_count": 4,
   "metadata": {
    "scrolled": true
   },
   "outputs": [],
   "source": [
    "from _Dist.NeuralNetworks.e_AdvancedNN.NN import Advanced\n",
    "\n",
    "numerical_idx = [True] * 100 + [False]\n",
    "categorical_columns = []"
   ]
  },
  {
   "cell_type": "code",
   "execution_count": 5,
   "metadata": {},
   "outputs": [
    {
     "name": "stdout",
     "output_type": "stream",
     "text": [
      "Epoch    1   Iter   83   Snapshot    2 (acc)  -  Train : 0.838889   CV :    0.785  -  Current run (2) leads to best result we've ever had, saving checkpoint since performance has improved significantly\n",
      "Epoch    1   Iter  125   Snapshot    3 (acc)  -  Train : 0.835556   CV :    0.812  -  Current run (3) leads to best result we've ever had, saving checkpoint since performance has improved significantly\n",
      "Epoch    2   Iter  155   Snapshot    6 (acc)  -  Train :     0.88   CV :    0.813  -  Current run (6) leads to best checkpoint we've ever had, saving checkpoint in case we need to restore\n",
      "Epoch    3   Iter  185   Snapshot    9 (acc)  -  Train : 0.868889   CV :    0.826  -  Current run (9) leads to best checkpoint we've ever had, saving checkpoint in case we need to restore\n",
      "Epoch   26   Iter  833   Snapshot   77 (acc)  -  Train : 0.974444   CV :    0.815  -  Early stopped at n_epoch=26 due to 'Over-fitting'\n",
      "  -  Rolling back to the best checkpoint\n",
      "INFO:tensorflow:Restoring parameters from _Models\\AdvancedNN_(256, 256)\\tmp\\Model\n",
      "  -  Time Cost: 9.117470741271973\n"
     ]
    }
   ],
   "source": [
    "wnd = Advanced(\n",
    "    x_train, y_train, x_cv, y_cv, use_dndf=False, use_pruner=False,\n",
    "    numerical_idx=numerical_idx, categorical_columns=categorical_columns\n",
    ").fit()"
   ]
  },
  {
   "cell_type": "code",
   "execution_count": 6,
   "metadata": {},
   "outputs": [
    {
     "name": "stderr",
     "output_type": "stream",
     "text": [
      "D:\\Software\\Dev\\Anaconda3\\lib\\site-packages\\tensorflow\\python\\ops\\gradients_impl.py:96: UserWarning: Converting sparse IndexedSlices to a dense Tensor of unknown shape. This may consume a large amount of memory.\n",
      "  \"Converting sparse IndexedSlices to a dense Tensor of unknown shape. \"\n"
     ]
    },
    {
     "name": "stdout",
     "output_type": "stream",
     "text": [
      "Epoch    1   Iter  125   Snapshot    3 (acc)  -  Train : 0.853333   CV :    0.816  -  Current run (3) leads to best checkpoint we've ever had, saving checkpoint in case we need to restore\n",
      "Epoch    2   Iter  155   Snapshot    6 (acc)  -  Train : 0.851111   CV :    0.831  -  Current run (6) leads to best checkpoint we've ever had, saving checkpoint in case we need to restore\n",
      "Epoch    5   Iter  245   Snapshot   15 (acc)  -  Train : 0.895556   CV :    0.835  -  Current run (15) leads to best checkpoint we've ever had, saving checkpoint in case we need to restore\n",
      "Epoch   17   Iter  521   Snapshot   49 (acc)  -  Train : 0.967778   CV :    0.819  -  Early stopped at n_epoch=17 due to 'Over-fitting'\n",
      "  -  Rolling back to the best checkpoint\n",
      "INFO:tensorflow:Restoring parameters from _Models\\AdvancedNN_(256, 256)\\tmp\\Model\n",
      "  -  Time Cost: 23.624905347824097\n"
     ]
    }
   ],
   "source": [
    "wnd_dndf = Advanced(\n",
    "    x_train, y_train, x_cv, y_cv, use_dndf=True, use_pruner=False,\n",
    "    numerical_idx=numerical_idx, categorical_columns=categorical_columns\n",
    ").fit()"
   ]
  },
  {
   "cell_type": "code",
   "execution_count": 7,
   "metadata": {},
   "outputs": [
    {
     "name": "stderr",
     "output_type": "stream",
     "text": [
      "D:\\Software\\Dev\\Anaconda3\\lib\\site-packages\\tensorflow\\python\\ops\\gradients_impl.py:96: UserWarning: Converting sparse IndexedSlices to a dense Tensor of unknown shape. This may consume a large amount of memory.\n",
      "  \"Converting sparse IndexedSlices to a dense Tensor of unknown shape. \"\n"
     ]
    },
    {
     "name": "stdout",
     "output_type": "stream",
     "text": [
      "Epoch    1   Iter  125   Snapshot    3 (acc)  -  Train : 0.888889   CV :    0.837  -  Current run (3) leads to best checkpoint we've ever had, saving checkpoint in case we need to restore\n",
      "Epoch    9   Iter  365   Snapshot   27 (acc)  -  Train : 0.897778   CV :    0.839  -  Current run (27) leads to best result we've ever had, saving checkpoint since performance has improved significantly\n",
      "Epoch   12   Iter  455   Snapshot   36 (acc)  -  Train : 0.897778   CV :     0.84  -  Current run (36) leads to best result we've ever had, saving checkpoint since performance has improved significantly\n",
      "Epoch   32   Iter 1097   Snapshot   97 (acc)  -  Train : 0.964444   CV :    0.826  -  Extending n_epoch to 37\n",
      "Epoch   37   Iter 1427   Snapshot  112 (acc)  -  Train : 0.971111   CV :    0.834  -  Extending n_epoch to 42\n",
      "Epoch   38   Iter 1605   Snapshot  114 (acc)  -  Train :     0.97   CV :    0.823  -  Early stopped at n_epoch=38 due to 'Over-fitting'\n",
      "  -  Rolling back to the best checkpoint\n",
      "INFO:tensorflow:Restoring parameters from _Models\\AdvancedNN_(256, 256)\\tmp\\Model\n",
      "  -  Time Cost: 46.004268169403076\n"
     ]
    }
   ],
   "source": [
    "wnd_dndf_pruned = Advanced(\n",
    "    x_train, y_train, x_cv, y_cv, use_dndf=True, use_pruner=True,\n",
    "    numerical_idx=numerical_idx, categorical_columns=categorical_columns\n",
    ").fit()"
   ]
  },
  {
   "cell_type": "code",
   "execution_count": 8,
   "metadata": {},
   "outputs": [
    {
     "name": "stdout",
     "output_type": "stream",
     "text": [
      "BasicNN              acc  -  Train : 0.927556   CV :    0.821   Test : 0.908667\n",
      "WnD                  acc  -  Train :    0.879   CV :    0.826   Test :    0.942\n",
      "WnD & DNDF           acc  -  Train : 0.903333   CV :    0.835   Test : 0.939333\n",
      "WnD & DNDF & Pruner  acc  -  Train : 0.921889   CV :     0.84   Test : 0.942667\n"
     ]
    },
    {
     "data": {
      "image/png": "[encoded data removed]",
      "text/plain": [
       "<matplotlib.figure.Figure at 0x1fbfa0c9940>"
      ]
     },
     "metadata": {},
     "output_type": "display_data"
    }
   ],
   "source": [
    "print(\"BasicNN              \", end=\"\")\n",
    "basic.evaluate(x_train, y_train, x_cv, y_cv, x_test, y_test)\n",
    "print(\"WnD                  \", end=\"\")\n",
    "wnd.evaluate(x_train, y_train, x_cv, y_cv, x_test, y_test)\n",
    "print(\"WnD & DNDF           \", end=\"\")\n",
    "wnd_dndf.evaluate(x_train, y_train, x_cv, y_cv, x_test, y_test)\n",
    "print(\"WnD & DNDF & Pruner  \", end=\"\")\n",
    "wnd_dndf_pruned.evaluate(x_train, y_train, x_cv, y_cv, x_test, y_test)\n",
    "draw_losses(basic, wnd_dndf, wnd_dndf_pruned)"
   ]
  }
 ],
 "metadata": {
  "anaconda-cloud": {},
  "kernelspec": {
   "display_name": "Python 3",
   "language": "python",
   "name": "python3"
  },
  "language_info": {
   "codemirror_mode": {
    "name": "ipython",
    "version": 3
   },
   "file_extension": ".py",
   "mimetype": "text/x-python",
   "name": "python",
   "nbconvert_exporter": "python",
   "pygments_lexer": "ipython3",
   "version": "3.6.1"
  }
 },
 "nbformat": 4,
 "nbformat_minor": 1
}
