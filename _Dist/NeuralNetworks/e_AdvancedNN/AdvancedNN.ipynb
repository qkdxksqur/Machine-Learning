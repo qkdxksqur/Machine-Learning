{
 "cells": [
  {
   "cell_type": "code",
   "execution_count": 1,
   "metadata": {
    "collapsed": true
   },
   "outputs": [],
   "source": [
    "import os\n",
    "import sys\n",
    "root_path = os.path.abspath(\"../../../\")\n",
    "if root_path not in sys.path:\n",
    "    sys.path.append(root_path)\n",
    "\n",
    "from Util.Util import DataUtil\n",
    "\n",
    "(x, y), (x_test, y_test) = DataUtil.gen_noisy_linear(one_hot=False)\n",
    "x_train, x_cv = x[:9000], x[9000:]\n",
    "y_train, y_cv = y[:9000], y[9000:]"
   ]
  },
  {
   "cell_type": "code",
   "execution_count": 2,
   "metadata": {
    "collapsed": true
   },
   "outputs": [],
   "source": [
    "import numpy as np\n",
    "import matplotlib.pyplot as plt\n",
    "%matplotlib inline\n",
    "\n",
    "def draw_losses(*models):\n",
    "    plt.figure()\n",
    "    for nn in models:\n",
    "        name = str(nn)\n",
    "        el, csl = nn.log[\"epoch_loss\"], nn.log[\"cv_snapshot_loss\"]\n",
    "        ee_base = np.arange(len(el))\n",
    "        cse_base = np.linspace(0, len(el) - 1, len(csl))\n",
    "        plt.plot(ee_base, el, label=\"Train loss ({})\".format(name))\n",
    "        plt.plot(cse_base, csl, label=\"CV loss ({})\".format(name))\n",
    "        plt.legend()\n",
    "    plt.show()"
   ]
  },
  {
   "cell_type": "code",
   "execution_count": 3,
   "metadata": {
    "scrolled": false
   },
   "outputs": [
    {
     "name": "stdout",
     "output_type": "stream",
     "text": [
      "Epoch    1   Iter    126   Snapshot      3 (acc)  -  Train : 0.892222   CV :     0.81  -  Current run (3) leads to best checkpoint we've ever had, saving checkpoint in case we need to restore\n",
      "Epoch    2   Iter    252   Snapshot      6 (acc)  -  Train : 0.894444   CV :    0.836  -  Current run (6) leads to best checkpoint we've ever had, saving checkpoint in case we need to restore\n",
      "Epoch   32   Iter   4074   Snapshot     97 (acc)  -  Train :      1.0   CV :    0.812  -  Extending n_epoch to 37\n",
      "Epoch   37   Iter   4704   Snapshot    112 (acc)  -  Train :      1.0   CV :    0.808  -  Extending n_epoch to 42\n",
      "Epoch   42   Iter   5376   Snapshot    128 (acc)  -  Train :      1.0   CV :    0.806  -  Extending n_epoch to 47\n",
      "Epoch   47   Iter   6006   Snapshot    143 (acc)  -  Train :      1.0   CV :    0.806  -  Extending n_epoch to 52\n",
      "Epoch   52   Iter   6636   Snapshot    158 (acc)  -  Train :      1.0   CV :    0.807  -  Extending n_epoch to 57\n",
      "Epoch   57   Iter   7266   Snapshot    173 (acc)  -  Train :      1.0   CV :    0.809  -  Extending n_epoch to 62\n",
      "Epoch   62   Iter   7896   Snapshot    188 (acc)  -  Train :      1.0   CV :    0.809  -  Extending n_epoch to 67\n",
      "Epoch   67   Iter   8568   Snapshot    204 (acc)  -  Train :      1.0   CV :    0.805  -  Extending n_epoch to 72\n",
      "Epoch   72   Iter   9198   Snapshot    219 (acc)  -  Train :      1.0   CV :    0.807  -  Extending n_epoch to 77\n",
      "Epoch   77   Iter   9828   Snapshot    234 (acc)  -  Train :      1.0   CV :    0.807  -  Extending n_epoch to 82\n",
      "Epoch   82   Iter  10458   Snapshot    249 (acc)  -  Train :      1.0   CV :    0.807  -  Extending n_epoch to 87\n",
      "Epoch   87   Iter  11130   Snapshot    265 (acc)  -  Train :      1.0   CV :    0.806  -  Early stopped at n_epoch=87 due to 'Performance not improving'\n",
      "  -  Rolling back to the best checkpoint\n",
      "INFO:tensorflow:Restoring parameters from _Models\\BasicNN_(256, 256)\\tmp\\Model\n",
      "  -  Time Cost: 13.08248257637024\n"
     ]
    }
   ],
   "source": [
    "from _Dist.NeuralNetworks.c_BasicNN.NN import Basic\n",
    "\n",
    "basic = Basic(x_train, y_train, x_cv, y_cv).fit()"
   ]
  },
  {
   "cell_type": "code",
   "execution_count": 4,
   "metadata": {
    "collapsed": true,
    "scrolled": true
   },
   "outputs": [],
   "source": [
    "from _Dist.NeuralNetworks.e_AdvancedNN.NN import Advanced\n",
    "\n",
    "numerical_idx = [True] * 100 + [False]\n",
    "categorical_columns = []"
   ]
  },
  {
   "cell_type": "code",
   "execution_count": 5,
   "metadata": {},
   "outputs": [
    {
     "name": "stdout",
     "output_type": "stream",
     "text": [
      "Epoch    1   Iter     84   Snapshot      2 (acc)  -  Train : 0.843333   CV :     0.81  -  Current run (2) leads to best result we've ever had, saving checkpoint since performance has improved significantly\n",
      "Epoch    1   Iter    126   Snapshot      3 (acc)  -  Train : 0.883333   CV :    0.813  -  Current run (3) leads to best checkpoint we've ever had, saving checkpoint in case we need to restore\n",
      "Epoch    2   Iter    252   Snapshot      6 (acc)  -  Train : 0.887778   CV :    0.819  -  Current run (6) leads to best checkpoint we've ever had, saving checkpoint in case we need to restore\n",
      "Epoch    3   Iter    378   Snapshot      9 (acc)  -  Train : 0.876667   CV :     0.82  -  Current run (9) leads to best checkpoint we've ever had, saving checkpoint in case we need to restore\n",
      "Epoch    4   Iter    504   Snapshot     12 (acc)  -  Train : 0.872222   CV :    0.828  -  Current run (12) leads to best checkpoint we've ever had, saving checkpoint in case we need to restore\n",
      "Epoch   14   Iter   1680   Snapshot     40 (acc)  -  Train : 0.932222   CV :    0.813  -  Early stopped at n_epoch=14 due to 'Over-fitting'\n",
      "  -  Rolling back to the best checkpoint\n",
      "INFO:tensorflow:Restoring parameters from _Models\\AdvancedNN_(256, 256)\\tmp\\Model\n",
      "  -  Time Cost: 6.795146942138672\n"
     ]
    }
   ],
   "source": [
    "wnd = Advanced(\n",
    "    x_train, y_train, x_cv, y_cv, use_dndf=False, use_pruner=False,\n",
    "    numerical_idx=numerical_idx, categorical_columns=categorical_columns\n",
    ").fit()"
   ]
  },
  {
   "cell_type": "code",
   "execution_count": 6,
   "metadata": {},
   "outputs": [
    {
     "name": "stderr",
     "output_type": "stream",
     "text": [
      "D:\\Software\\Dev\\Anaconda3\\lib\\site-packages\\tensorflow\\python\\ops\\gradients_impl.py:96: UserWarning: Converting sparse IndexedSlices to a dense Tensor of unknown shape. This may consume a large amount of memory.\n",
      "  \"Converting sparse IndexedSlices to a dense Tensor of unknown shape. \"\n"
     ]
    },
    {
     "name": "stdout",
     "output_type": "stream",
     "text": [
      "Epoch    1   Iter    126   Snapshot      3 (acc)  -  Train : 0.885556   CV :    0.813  -  Current run (3) leads to best checkpoint we've ever had, saving checkpoint in case we need to restore\n",
      "Epoch    2   Iter    252   Snapshot      6 (acc)  -  Train : 0.881111   CV :     0.82  -  Current run (6) leads to best checkpoint we've ever had, saving checkpoint in case we need to restore\n",
      "Epoch    3   Iter    378   Snapshot      9 (acc)  -  Train : 0.885556   CV :    0.822  -  Current run (9) leads to best checkpoint we've ever had, saving checkpoint in case we need to restore\n",
      "Epoch    4   Iter    504   Snapshot     12 (acc)  -  Train : 0.881111   CV :    0.826  -  Current run (12) leads to best checkpoint we've ever had, saving checkpoint in case we need to restore\n",
      "Epoch    8   Iter    924   Snapshot     22 (acc)  -  Train : 0.913333   CV :    0.833  -  Current run (22) leads to best result we've ever had, saving checkpoint since we've suffered from over-fitting\n",
      "Epoch   11   Iter   1386   Snapshot     33 (acc)  -  Train : 0.938889   CV :    0.837  -  Current run (33) leads to best checkpoint we've ever had, saving checkpoint in case we need to restore\n",
      "Epoch   32   Iter   4074   Snapshot     97 (acc)  -  Train : 0.997778   CV :    0.824  -  Extending n_epoch to 37\n",
      "Epoch   37   Iter   4704   Snapshot    112 (acc)  -  Train :      1.0   CV :    0.816  -  Extending n_epoch to 42\n",
      "Epoch   42   Iter   5376   Snapshot    128 (acc)  -  Train :      1.0   CV :    0.817  -  Extending n_epoch to 47\n",
      "Epoch   47   Iter   6006   Snapshot    143 (acc)  -  Train :      1.0   CV :    0.817  -  Extending n_epoch to 52\n",
      "Epoch   51   Iter   6468   Snapshot    154 (acc)  -  Train :      1.0   CV :     0.81  -  Early stopped at n_epoch=51 due to 'Over-fitting'\n",
      "  -  Rolling back to the best checkpoint\n",
      "INFO:tensorflow:Restoring parameters from _Models\\AdvancedNN_(256, 256)\\tmp\\Model\n",
      "  -  Time Cost: 59.54436135292053\n"
     ]
    }
   ],
   "source": [
    "wnd_dndf = Advanced(\n",
    "    x_train, y_train, x_cv, y_cv, use_dndf=True, use_pruner=False,\n",
    "    numerical_idx=numerical_idx, categorical_columns=categorical_columns\n",
    ").fit()"
   ]
  },
  {
   "cell_type": "code",
   "execution_count": 7,
   "metadata": {},
   "outputs": [
    {
     "name": "stderr",
     "output_type": "stream",
     "text": [
      "D:\\Software\\Dev\\Anaconda3\\lib\\site-packages\\tensorflow\\python\\ops\\gradients_impl.py:96: UserWarning: Converting sparse IndexedSlices to a dense Tensor of unknown shape. This may consume a large amount of memory.\n",
      "  \"Converting sparse IndexedSlices to a dense Tensor of unknown shape. \"\n"
     ]
    },
    {
     "name": "stdout",
     "output_type": "stream",
     "text": [
      "Epoch    1   Iter    126   Snapshot      3 (acc)  -  Train : 0.897778   CV :    0.836  -  Current run (3) leads to best checkpoint we've ever had, saving checkpoint in case we need to restore\n",
      "Epoch    2   Iter    252   Snapshot      6 (acc)  -  Train : 0.871111   CV :    0.837  -  Current run (6) leads to best checkpoint we've ever had, saving checkpoint in case we need to restore\n",
      "Epoch    3   Iter    378   Snapshot      9 (acc)  -  Train : 0.896667   CV :    0.841  -  Current run (9) leads to best checkpoint we've ever had, saving checkpoint in case we need to restore\n",
      "Epoch   14   Iter   1680   Snapshot     40 (acc)  -  Train : 0.938889   CV :    0.828  -  Early stopped at n_epoch=14 due to 'Over-fitting'\n",
      "  -  Rolling back to the best checkpoint\n",
      "INFO:tensorflow:Restoring parameters from _Models\\AdvancedNN_(256, 256)\\tmp\\Model\n",
      "  -  Time Cost: 22.57480001449585\n"
     ]
    }
   ],
   "source": [
    "wnd_dndf_pruned = Advanced(\n",
    "    x_train, y_train, x_cv, y_cv, use_dndf=True, use_pruner=True,\n",
    "    numerical_idx=numerical_idx, categorical_columns=categorical_columns\n",
    ").fit()"
   ]
  },
  {
   "cell_type": "code",
   "execution_count": 8,
   "metadata": {},
   "outputs": [
    {
     "name": "stdout",
     "output_type": "stream",
     "text": [
      "BasicNN              acc  -  Train : 0.924333   CV :    0.836   Test : 0.912667\n",
      "WnD                  acc  -  Train : 0.880778   CV :    0.828   Test :    0.936\n",
      "WnD & DNDF           acc  -  Train : 0.946556   CV :    0.837   Test : 0.932667\n",
      "WnD & DNDF & Pruner  acc  -  Train : 0.877556   CV :    0.841   Test : 0.957333\n"
     ]
    },
    {
     "data": {
      "image/png": "[encoded data removed]",
      "text/plain": [
       "<matplotlib.figure.Figure at 0x1e1f6484be0>"
      ]
     },
     "metadata": {},
     "output_type": "display_data"
    }
   ],
   "source": [
    "print(\"BasicNN              \", end=\"\")\n",
    "basic.evaluate(x_train, y_train, x_cv, y_cv, x_test, y_test)\n",
    "print(\"WnD                  \", end=\"\")\n",
    "wnd.evaluate(x_train, y_train, x_cv, y_cv, x_test, y_test)\n",
    "print(\"WnD & DNDF           \", end=\"\")\n",
    "wnd_dndf.evaluate(x_train, y_train, x_cv, y_cv, x_test, y_test)\n",
    "print(\"WnD & DNDF & Pruner  \", end=\"\")\n",
    "wnd_dndf_pruned.evaluate(x_train, y_train, x_cv, y_cv, x_test, y_test)\n",
    "draw_losses(basic, wnd_dndf, wnd_dndf_pruned)"
   ]
  }
 ],
 "metadata": {
  "anaconda-cloud": {},
  "kernelspec": {
   "display_name": "Python 3",
   "language": "python",
   "name": "python3"
  },
  "language_info": {
   "codemirror_mode": {
    "name": "ipython",
    "version": 3
   },
   "file_extension": ".py",
   "mimetype": "text/x-python",
   "name": "python",
   "nbconvert_exporter": "python",
   "pygments_lexer": "ipython3",
   "version": "3.6.1"
  }
 },
 "nbformat": 4,
 "nbformat_minor": 1
}
