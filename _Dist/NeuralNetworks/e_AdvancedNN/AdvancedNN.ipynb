{
 "cells": [
  {
   "cell_type": "code",
   "execution_count": 1,
   "metadata": {
    "collapsed": true
   },
   "outputs": [],
   "source": [
    "import os\n",
    "import sys\n",
    "root_path = os.path.abspath(\"../../../\")\n",
    "if root_path not in sys.path:\n",
    "    sys.path.append(root_path)\n",
    "\n",
    "from Util.Util import DataUtil\n",
    "\n",
    "(x, y), (x_test, y_test) = DataUtil.gen_noisy_linear(one_hot=False)\n",
    "x_train, x_cv = x[:9000], x[9000:]\n",
    "y_train, y_cv = y[:9000], y[9000:]"
   ]
  },
  {
   "cell_type": "code",
   "execution_count": 2,
   "metadata": {
    "collapsed": true
   },
   "outputs": [],
   "source": [
    "import numpy as np\n",
    "import matplotlib.pyplot as plt\n",
    "%matplotlib inline\n",
    "\n",
    "def draw_losses(*models):\n",
    "    plt.figure()\n",
    "    for nn in models:\n",
    "        name = str(nn)\n",
    "        el, tl = nn.log[\"epoch_loss\"], nn.log[\"test_snapshot_loss\"]\n",
    "        ee_base = np.arange(len(el))\n",
    "        cse_base = np.linspace(0, len(el) - 1, len(tl))\n",
    "        plt.plot(ee_base, el, label=\"Train loss ({})\".format(name))\n",
    "        plt.plot(cse_base, tl, label=\"Test loss ({})\".format(name))\n",
    "        plt.legend()\n",
    "    plt.show()"
   ]
  },
  {
   "cell_type": "code",
   "execution_count": 3,
   "metadata": {
    "scrolled": false
   },
   "outputs": [
    {
     "name": "stdout",
     "output_type": "stream",
     "text": [
      "Epoch    1   Iter       69   Snapshot      3 (acc)  -  Train : 0.865556   Test :    0.806  -  Current run (3) leads to best checkpoint we've ever had, saving checkpoint in case we need to restore\n",
      "Epoch    2   Iter      138   Snapshot      6 (acc)  -  Train : 0.902222   Test :    0.815  -  Current run (6) leads to best checkpoint we've ever had, saving checkpoint in case we need to restore\n",
      "Epoch    4   Iter      253   Snapshot     11 (acc)  -  Train :     0.95   Test :    0.829  -  Current run (11) leads to best result we've ever had, saving checkpoint since performance has improved significantly\n",
      "Epoch   10   Iter      644   Snapshot     28 (acc)  -  Train : 0.896667   Test :     0.75  -  Early stopped at n_epoch=10 due to 'Over-fitting'\n",
      "  -  Rolling back to the best checkpoint\n",
      "INFO:tensorflow:Restoring parameters from _Models\\BasicNN_[256, 256]\\tmp\\Model\n",
      "  -  Time Cost: 2.8408496379852295\n"
     ]
    }
   ],
   "source": [
    "from _Dist.NeuralNetworks.c_BasicNN.NN import Basic\n",
    "\n",
    "basic = Basic(x_train, y_train, x_cv, y_cv).fit()"
   ]
  },
  {
   "cell_type": "code",
   "execution_count": 4,
   "metadata": {
    "collapsed": true,
    "scrolled": true
   },
   "outputs": [],
   "source": [
    "from _Dist.NeuralNetworks.e_AdvancedNN.NN import Advanced\n",
    "\n",
    "numerical_idx = [True] * 100 + [False]\n",
    "categorical_columns = []\n",
    "base_params = {\"model_structure_settings\": {\"use_dndf\": False, \"use_pruner\": False}}"
   ]
  },
  {
   "cell_type": "code",
   "execution_count": 5,
   "metadata": {},
   "outputs": [
    {
     "name": "stdout",
     "output_type": "stream",
     "text": [
      "============================================================\n",
      "This is a 2-classes problem\n",
      "------------------------------------------------------------\n",
      "Data     : 9000 training samples, 1000 test samples\n",
      "Features : 0 categorical, 100 numerical\n",
      "============================================================\n",
      "Deep model: DNN\n",
      "Deep model input: Continuous features only\n",
      "------------------------------------------------------------\n",
      "------------------------------------------------------------\n",
      "Using dropout with keep_prob = 0.5\n",
      "Training without batch norm\n",
      "Hidden units: [256, 256]\n",
      "============================================================\n",
      "Wide model: logistic regression\n",
      "Wide model input: Continuous features only\n",
      "------------------------------------------------------------\n",
      "============================================================\n",
      "Hyper parameters\n",
      "------------------------------------------------------------\n",
      "This is a Wide & Deep model\n",
      "------------------------------------------------------------\n",
      "Activation       : ['relu', 'relu']\n",
      "Batch size       : 128\n",
      "Epoch num        : 32\n",
      "Optimizer        : Adam\n",
      "Metric           : acc\n",
      "Loss             : cross_entropy\n",
      "lr               : 0.001\n",
      "------------------------------------------------------------\n",
      "Pruner           : None\n",
      "------------------------------------------------------------\n",
      "\n",
      "Epoch    1   Iter       46   Snapshot      2 (acc)  -  Train : 0.814444   Test :    0.793  -  Current run (2) leads to best result we've ever had, saving checkpoint since performance has improved significantly\n",
      "Epoch    1   Iter       69   Snapshot      3 (acc)  -  Train :     0.84   Test :    0.801  -  Current run (3) leads to best checkpoint we've ever had, saving checkpoint in case we need to restore\n",
      "Epoch    2   Iter       92   Snapshot      4 (acc)  -  Train : 0.848889   Test :    0.813  -  Current run (4) leads to best result we've ever had, saving checkpoint since performance has improved significantly\n",
      "Epoch    2   Iter      115   Snapshot      5 (acc)  -  Train : 0.873333   Test :    0.823  -  Current run (5) leads to best result we've ever had, saving checkpoint since performance has improved significantly\n",
      "Epoch    5   Iter      345   Snapshot     15 (acc)  -  Train : 0.871111   Test :    0.827  -  Current run (15) leads to best checkpoint we've ever had, saving checkpoint in case we need to restore\n",
      "Epoch    6   Iter      414   Snapshot     18 (acc)  -  Train : 0.875556   Test :    0.828  -  Current run (18) leads to best checkpoint we've ever had, saving checkpoint in case we need to restore\n",
      "Epoch    7   Iter      483   Snapshot     21 (acc)  -  Train :     0.89   Test :    0.829  -  Current run (21) leads to best checkpoint we've ever had, saving checkpoint in case we need to restore\n",
      "Epoch    8   Iter      552   Snapshot     24 (acc)  -  Train : 0.881111   Test :     0.83  -  Current run (24) leads to best checkpoint we've ever had, saving checkpoint in case we need to restore\n",
      "Epoch    9   Iter      621   Snapshot     27 (acc)  -  Train : 0.904444   Test :    0.831  -  Current run (27) leads to best checkpoint we've ever had, saving checkpoint in case we need to restore\n",
      "Epoch   11   Iter      759   Snapshot     33 (acc)  -  Train : 0.903333   Test :     0.84  -  Current run (33) leads to best checkpoint we've ever had, saving checkpoint in case we need to restore\n",
      "Epoch   24   Iter     1633   Snapshot     71 (acc)  -  Train : 0.932222   Test :    0.818  -  Early stopped at n_epoch=24 due to 'Over-fitting'\n",
      "  -  Rolling back to the best checkpoint\n",
      "INFO:tensorflow:Restoring parameters from _Models\\AdvancedNN_[256, 256]_False(dndf)_False(prune)\\tmp\\Model\n",
      "  -  Time Cost: 9.925019979476929\n"
     ]
    }
   ],
   "source": [
    "wnd = Advanced(\n",
    "    x_train, y_train, x_cv, y_cv,\n",
    "    numerical_idx=numerical_idx, categorical_columns=categorical_columns,\n",
    "    **base_params\n",
    ").fit()"
   ]
  },
  {
   "cell_type": "code",
   "execution_count": 6,
   "metadata": {},
   "outputs": [
    {
     "name": "stderr",
     "output_type": "stream",
     "text": [
      "D:\\Software\\Dev\\Anaconda3\\lib\\site-packages\\tensorflow\\python\\ops\\gradients_impl.py:96: UserWarning: Converting sparse IndexedSlices to a dense Tensor of unknown shape. This may consume a large amount of memory.\n",
      "  \"Converting sparse IndexedSlices to a dense Tensor of unknown shape. \"\n"
     ]
    },
    {
     "name": "stdout",
     "output_type": "stream",
     "text": [
      "============================================================\n",
      "This is a 2-classes problem\n",
      "------------------------------------------------------------\n",
      "Data     : 9000 training samples, 1000 test samples\n",
      "Features : 0 categorical, 100 numerical\n",
      "============================================================\n",
      "Deep model: DNN\n",
      "Deep model input: Continuous features only\n",
      "------------------------------------------------------------\n",
      "------------------------------------------------------------\n",
      "Using dropout with keep_prob = 0.5\n",
      "Training without batch norm\n",
      "Hidden units: [256, 256]\n",
      "============================================================\n",
      "Wide model: DNDF\n",
      "Wide model input: Continuous features only\n",
      "------------------------------------------------------------\n",
      "Using DNDF with n_tree = 16, tree_depth = 4\n",
      "============================================================\n",
      "Hyper parameters\n",
      "------------------------------------------------------------\n",
      "This is a hybrid model\n",
      "------------------------------------------------------------\n",
      "Activation       : ['relu', 'relu']\n",
      "Batch size       : 128\n",
      "Epoch num        : 32\n",
      "Optimizer        : Adam\n",
      "Metric           : acc\n",
      "Loss             : cross_entropy\n",
      "lr               : 0.001\n",
      "------------------------------------------------------------\n",
      "Pruner           : None\n",
      "------------------------------------------------------------\n",
      "\n",
      "Epoch    1   Iter       46   Snapshot      2 (acc)  -  Train : 0.826667   Test :    0.775  -  Current run (2) leads to best result we've ever had, saving checkpoint since performance has improved significantly\n",
      "Epoch    1   Iter       69   Snapshot      3 (acc)  -  Train : 0.825556   Test :    0.789  -  Current run (3) leads to best result we've ever had, saving checkpoint since performance has improved significantly\n",
      "Epoch    2   Iter       92   Snapshot      4 (acc)  -  Train :     0.87   Test :    0.805  -  Current run (4) leads to best result we've ever had, saving checkpoint since performance has improved significantly\n",
      "Epoch    2   Iter      115   Snapshot      5 (acc)  -  Train : 0.845556   Test :    0.827  -  Current run (5) leads to best result we've ever had, saving checkpoint since performance has improved significantly\n",
      "Epoch    3   Iter      207   Snapshot      9 (acc)  -  Train :     0.86   Test :    0.828  -  Current run (9) leads to best checkpoint we've ever had, saving checkpoint in case we need to restore\n",
      "Epoch    6   Iter      391   Snapshot     17 (acc)  -  Train : 0.891111   Test :    0.841  -  Current run (17) leads to best result we've ever had, saving checkpoint since performance has improved significantly\n",
      "Epoch   24   Iter     1679   Snapshot     73 (acc)  -  Train : 0.961111   Test :     0.82  -  Early stopped at n_epoch=24 due to 'Over-fitting'\n",
      "  -  Rolling back to the best checkpoint\n",
      "INFO:tensorflow:Restoring parameters from _Models\\AdvancedNN_[256, 256]_True(dndf)_False(prune)\\tmp\\Model\n",
      "  -  Time Cost: 48.47556185722351\n"
     ]
    }
   ],
   "source": [
    "base_params[\"model_structure_settings\"][\"use_dndf\"] = True\n",
    "wnd_dndf = Advanced(\n",
    "    x_train, y_train, x_cv, y_cv,\n",
    "    numerical_idx=numerical_idx, categorical_columns=categorical_columns,\n",
    "    **base_params\n",
    ").fit()"
   ]
  },
  {
   "cell_type": "code",
   "execution_count": 7,
   "metadata": {},
   "outputs": [
    {
     "name": "stderr",
     "output_type": "stream",
     "text": [
      "D:\\Software\\Dev\\Anaconda3\\lib\\site-packages\\tensorflow\\python\\ops\\gradients_impl.py:96: UserWarning: Converting sparse IndexedSlices to a dense Tensor of unknown shape. This may consume a large amount of memory.\n",
      "  \"Converting sparse IndexedSlices to a dense Tensor of unknown shape. \"\n"
     ]
    },
    {
     "name": "stdout",
     "output_type": "stream",
     "text": [
      "============================================================\n",
      "This is a 2-classes problem\n",
      "------------------------------------------------------------\n",
      "Data     : 9000 training samples, 1000 test samples\n",
      "Features : 0 categorical, 100 numerical\n",
      "============================================================\n",
      "Deep model: DNN\n",
      "Deep model input: Continuous features only\n",
      "------------------------------------------------------------\n",
      "------------------------------------------------------------\n",
      "Using dropout with keep_prob = 0.5\n",
      "Training without batch norm\n",
      "Hidden units: [256, 256]\n",
      "============================================================\n",
      "Wide model: DNDF\n",
      "Wide model input: Continuous features only\n",
      "------------------------------------------------------------\n",
      "Using DNDF with n_tree = 16, tree_depth = 4\n",
      "============================================================\n",
      "Hyper parameters\n",
      "------------------------------------------------------------\n",
      "This is a hybrid model\n",
      "------------------------------------------------------------\n",
      "Activation       : ['relu', 'relu']\n",
      "Batch size       : 128\n",
      "Epoch num        : 32\n",
      "Optimizer        : Adam\n",
      "Metric           : acc\n",
      "Loss             : cross_entropy\n",
      "lr               : 0.001\n",
      "------------------------------------------------------------\n",
      "Pruner           : \n",
      "-> alpha         : 0.0001\n",
      "-> beta          : 1\n",
      "-> eps           : 1e-12\n",
      "-> gamma         : 1\n",
      "-> max_ratio     : 1.0\n",
      "-> method        : hard_prune\n",
      "------------------------------------------------------------\n",
      "\n",
      "Epoch    1   Iter       46   Snapshot      2 (acc)  -  Train : 0.831111   Test :    0.798  -  Current run (2) leads to best result we've ever had, saving checkpoint since performance has improved significantly\n",
      "Epoch    1   Iter       69   Snapshot      3 (acc)  -  Train : 0.853333   Test :    0.803  -  Current run (3) leads to best checkpoint we've ever had, saving checkpoint in case we need to restore\n",
      "Epoch    2   Iter       92   Snapshot      4 (acc)  -  Train : 0.876667   Test :    0.826  -  Current run (4) leads to best result we've ever had, saving checkpoint since performance has improved significantly\n",
      "Epoch    2   Iter      138   Snapshot      6 (acc)  -  Train : 0.845556   Test :    0.828  -  Current run (6) leads to best checkpoint we've ever had, saving checkpoint in case we need to restore\n",
      "Epoch    3   Iter      207   Snapshot      9 (acc)  -  Train : 0.841111   Test :    0.834  -  Current run (9) leads to best checkpoint we've ever had, saving checkpoint in case we need to restore\n",
      "Epoch    4   Iter      276   Snapshot     12 (acc)  -  Train :     0.88   Test :    0.838  -  Current run (12) leads to best checkpoint we've ever had, saving checkpoint in case we need to restore\n",
      "Epoch   32   Iter     2231   Snapshot     97 (acc)  -  Train : 0.935556   Test :    0.824  -  Extending n_epoch to 37\n",
      "Epoch   37   Iter     2576   Snapshot    112 (acc)  -  Train : 0.936667   Test :    0.828  -  Extending n_epoch to 42\n",
      "Epoch   42   Iter     2921   Snapshot    127 (acc)  -  Train : 0.954444   Test :    0.832  -  Extending n_epoch to 47\n",
      "Epoch   47   Iter     3289   Snapshot    143 (acc)  -  Train : 0.946667   Test :    0.832  -  Extending n_epoch to 52\n",
      "Epoch   51   Iter     3519   Snapshot    153 (acc)  -  Train : 0.955556   Test :    0.824  -  Early stopped at n_epoch=51 due to 'Over-fitting'\n",
      "  -  Rolling back to the best checkpoint\n",
      "INFO:tensorflow:Restoring parameters from _Models\\AdvancedNN_[256, 256]_True(dndf)_True(prune)\\tmp\\Model\n",
      "  -  Time Cost: 78.32790613174438\n"
     ]
    }
   ],
   "source": [
    "base_params[\"model_structure_settings\"][\"use_pruner\"] = True\n",
    "wnd_dndf_pruned = Advanced(\n",
    "    x_train, y_train, x_cv, y_cv,\n",
    "    numerical_idx=numerical_idx, categorical_columns=categorical_columns,\n",
    "    **base_params\n",
    ").fit()"
   ]
  },
  {
   "cell_type": "code",
   "execution_count": 8,
   "metadata": {},
   "outputs": [
    {
     "name": "stdout",
     "output_type": "stream",
     "text": [
      "BasicNN              acc  -  Train : 0.926889   CV :    0.829   Test : 0.913333\n",
      "WnD                  acc  -  Train : 0.903333   CV :     0.84   Test : 0.941333\n",
      "WnD & DNDF           acc  -  Train : 0.890889   CV :    0.841   Test :     0.95\n",
      "WnD & DNDF & Pruner  acc  -  Train : 0.873222   CV :    0.838   Test : 0.957333\n"
     ]
    },
    {
     "data": {
      "image/png": "[encoded data removed]",
      "text/plain": [
       "<matplotlib.figure.Figure at 0x2397fa33748>"
      ]
     },
     "metadata": {},
     "output_type": "display_data"
    }
   ],
   "source": [
    "print(\"BasicNN              \", end=\"\")\n",
    "basic.evaluate(x_train, y_train, x_cv, y_cv, x_test, y_test)\n",
    "print(\"WnD                  \", end=\"\")\n",
    "wnd.evaluate(x_train, y_train, x_cv, y_cv, x_test, y_test)\n",
    "print(\"WnD & DNDF           \", end=\"\")\n",
    "wnd_dndf.evaluate(x_train, y_train, x_cv, y_cv, x_test, y_test)\n",
    "print(\"WnD & DNDF & Pruner  \", end=\"\")\n",
    "wnd_dndf_pruned.evaluate(x_train, y_train, x_cv, y_cv, x_test, y_test)\n",
    "draw_losses(basic, wnd_dndf, wnd_dndf_pruned)"
   ]
  }
 ],
 "metadata": {
  "anaconda-cloud": {},
  "kernelspec": {
   "display_name": "Python 3",
   "language": "python",
   "name": "python3"
  },
  "language_info": {
   "codemirror_mode": {
    "name": "ipython",
    "version": 3
   },
   "file_extension": ".py",
   "mimetype": "text/x-python",
   "name": "python",
   "nbconvert_exporter": "python",
   "pygments_lexer": "ipython3",
   "version": "3.6.1"
  }
 },
 "nbformat": 4,
 "nbformat_minor": 1
}
