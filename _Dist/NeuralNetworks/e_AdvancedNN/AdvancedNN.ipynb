{
 "cells": [
  {
   "cell_type": "code",
   "execution_count": 1,
   "metadata": {},
   "outputs": [],
   "source": [
    "import os\n",
    "import sys\n",
    "root_path = os.path.abspath(\"../../../\")\n",
    "if root_path not in sys.path:\n",
    "    sys.path.append(root_path)\n",
    "\n",
    "from Util.Util import DataUtil\n",
    "\n",
    "(x, y), (x_test, y_test) = DataUtil.gen_noisy_linear(one_hot=False)\n",
    "x_train, x_cv = x[:9000], x[9000:]\n",
    "y_train, y_cv = y[:9000], y[9000:]"
   ]
  },
  {
   "cell_type": "code",
   "execution_count": 2,
   "metadata": {
    "collapsed": true
   },
   "outputs": [],
   "source": [
    "import numpy as np\n",
    "import matplotlib.pyplot as plt\n",
    "%matplotlib inline\n",
    "\n",
    "def draw_losses(*models):\n",
    "    plt.figure()\n",
    "    for nn in models:\n",
    "        name = str(nn)\n",
    "        el, tl = nn.log[\"epoch_loss\"], nn.log[\"test_snapshot_loss\"]\n",
    "        ee_base = np.arange(len(el))\n",
    "        cse_base = np.linspace(0, len(el) - 1, len(tl))\n",
    "        plt.plot(ee_base, el, label=\"Train loss ({})\".format(name))\n",
    "        plt.plot(cse_base, tl, label=\"Test loss ({})\".format(name))\n",
    "        plt.legend()\n",
    "    plt.show()"
   ]
  },
  {
   "cell_type": "code",
   "execution_count": 3,
   "metadata": {
    "scrolled": false
   },
   "outputs": [
    {
     "name": "stdout",
     "output_type": "stream",
     "text": [
      "Epoch    1   Iter       69   Snapshot      3 (acc)  -  Train : 0.862222   Test :    0.824  -  Current run (3) leads to best checkpoint we've ever had, saving checkpoint in case we need to restore\n",
      "Epoch    4   Iter      276   Snapshot     12 (acc)  -  Train : 0.933333   Test :    0.828  -  Current run (12) leads to best checkpoint we've ever had, saving checkpoint in case we need to restore\n",
      "Epoch    8   Iter      552   Snapshot     24 (acc)  -  Train : 0.995556   Test :    0.795  -  Early stopped at n_epoch=8 due to 'Over-fitting'\n",
      "  -  Rolling back to the best checkpoint\n",
      "INFO:tensorflow:Restoring parameters from _Models\\NN_Basic\\tmp\\Model\n",
      "  -  Time Cost: 2.5738508701324463\n"
     ]
    }
   ],
   "source": [
    "from _Dist.NeuralNetworks.c_BasicNN.NN import Basic\n",
    "\n",
    "basic = Basic().fit(x_train, y_train, x_cv, y_cv)"
   ]
  },
  {
   "cell_type": "code",
   "execution_count": 4,
   "metadata": {
    "collapsed": true,
    "scrolled": true
   },
   "outputs": [],
   "source": [
    "from _Dist.NeuralNetworks.e_AdvancedNN.NN import Advanced\n",
    "\n",
    "numerical_idx = [True] * 100 + [False]\n",
    "categorical_columns = []\n",
    "base_params = {\n",
    "    \"data_info\": {\"numerical_idx\": numerical_idx, \"categorical_columns\": categorical_columns},\n",
    "    \"model_param_settings\": {\"max_epoch\": 20},\n",
    "    \"model_structure_settings\": {\"use_dndf\": False, \"use_pruner\": False}\n",
    "}"
   ]
  },
  {
   "cell_type": "code",
   "execution_count": 5,
   "metadata": {},
   "outputs": [
    {
     "name": "stdout",
     "output_type": "stream",
     "text": [
      "============================================================\n",
      "This is a 2-classes problem\n",
      "------------------------------------------------------------\n",
      "Data     : 9000 training samples, 1000 test samples\n",
      "Features : 0 categorical, 100 numerical\n",
      "============================================================\n",
      "Deep model: DNN\n",
      "Deep model input: Continuous features only\n",
      "------------------------------------------------------------\n",
      "------------------------------------------------------------\n",
      "Using dropout with keep_prob = 0.5\n",
      "Training without batch norm\n",
      "Hidden units: [256, 256]\n",
      "============================================================\n",
      "Wide model: logistic regression\n",
      "Wide model input: Continuous features only\n",
      "------------------------------------------------------------\n",
      "============================================================\n",
      "Hyper parameters\n",
      "------------------------------------------------------------\n",
      "This is a Wide & Deep model\n",
      "------------------------------------------------------------\n",
      "Activation       : ['relu', 'relu']\n",
      "Batch size       : 128\n",
      "Epoch num        : 20\n",
      "Optimizer        : Adam\n",
      "Metric           : acc\n",
      "Loss             : cross_entropy\n",
      "lr               : 0.001\n",
      "------------------------------------------------------------\n",
      "Pruner           : None\n",
      "------------------------------------------------------------\n",
      "\n",
      "Epoch    1   Iter       46   Snapshot      2 (acc)  -  Train : 0.801111   Test :    0.779  -  Current run (2) leads to best result we've ever had, saving checkpoint since performance has improved significantly\n",
      "Epoch    1   Iter       69   Snapshot      3 (acc)  -  Train :     0.83   Test :    0.821  -  Current run (3) leads to best checkpoint we've ever had, saving checkpoint in case we need to restore\n",
      "Epoch    2   Iter      138   Snapshot      6 (acc)  -  Train : 0.866667   Test :    0.836  -  Current run (6) leads to best checkpoint we've ever had, saving checkpoint in case we need to restore\n",
      "Epoch    4   Iter      276   Snapshot     12 (acc)  -  Train : 0.864444   Test :    0.839  -  Current run (12) leads to best checkpoint we've ever had, saving checkpoint in case we need to restore\n",
      "Epoch   20   Iter     1380   Snapshot     60 (acc)  -  Train : 0.951111   Test :    0.829  -  Model seems to be under-fitting but max_epoch reached. Increasing max_epoch may improve performance\n",
      "  -  Time Cost: 5.1411988735198975\n"
     ]
    }
   ],
   "source": [
    "wnd = Advanced(**base_params).fit(x_train, y_train, x_cv, y_cv)"
   ]
  },
  {
   "cell_type": "code",
   "execution_count": 6,
   "metadata": {},
   "outputs": [
    {
     "name": "stderr",
     "output_type": "stream",
     "text": [
      "D:\\Software\\Dev\\Anaconda3\\lib\\site-packages\\tensorflow\\python\\ops\\gradients_impl.py:96: UserWarning: Converting sparse IndexedSlices to a dense Tensor of unknown shape. This may consume a large amount of memory.\n",
      "  \"Converting sparse IndexedSlices to a dense Tensor of unknown shape. \"\n"
     ]
    },
    {
     "name": "stdout",
     "output_type": "stream",
     "text": [
      "============================================================\n",
      "This is a 2-classes problem\n",
      "------------------------------------------------------------\n",
      "Data     : 9000 training samples, 1000 test samples\n",
      "Features : 0 categorical, 100 numerical\n",
      "============================================================\n",
      "Deep model: DNN\n",
      "Deep model input: Continuous features only\n",
      "------------------------------------------------------------\n",
      "------------------------------------------------------------\n",
      "Using dropout with keep_prob = 0.5\n",
      "Training without batch norm\n",
      "Hidden units: [256, 256]\n",
      "============================================================\n",
      "Wide model: DNDF\n",
      "Wide model input: Continuous features only\n",
      "------------------------------------------------------------\n",
      "Using DNDF with n_tree = 16, tree_depth = 4\n",
      "============================================================\n",
      "Hyper parameters\n",
      "------------------------------------------------------------\n",
      "This is a hybrid model\n",
      "------------------------------------------------------------\n",
      "Activation       : ['relu', 'relu']\n",
      "Batch size       : 128\n",
      "Epoch num        : 20\n",
      "Optimizer        : Adam\n",
      "Metric           : acc\n",
      "Loss             : cross_entropy\n",
      "lr               : 0.001\n",
      "------------------------------------------------------------\n",
      "Pruner           : None\n",
      "------------------------------------------------------------\n",
      "\n",
      "Epoch    1   Iter       69   Snapshot      3 (acc)  -  Train : 0.847778   Test :    0.823  -  Current run (3) leads to best checkpoint we've ever had, saving checkpoint in case we need to restore\n",
      "Epoch    3   Iter      207   Snapshot      9 (acc)  -  Train : 0.863333   Test :    0.829  -  Current run (9) leads to best checkpoint we've ever had, saving checkpoint in case we need to restore\n",
      "Epoch    4   Iter      276   Snapshot     12 (acc)  -  Train : 0.864444   Test :    0.833  -  Current run (12) leads to best checkpoint we've ever had, saving checkpoint in case we need to restore\n",
      "Epoch   20   Iter     1380   Snapshot     60 (acc)  -  Train :     0.94   Test :    0.813  -  max_epoch reached\n",
      "  -  Rolling back to the best checkpoint\n",
      "INFO:tensorflow:Restoring parameters from _Models\\NN_Advanced\\tmp\\Model\n",
      "  -  Time Cost: 33.9674973487854\n"
     ]
    }
   ],
   "source": [
    "base_params[\"model_structure_settings\"][\"use_dndf\"] = True\n",
    "wnd_dndf = Advanced(**base_params).fit(x_train, y_train, x_cv, y_cv)"
   ]
  },
  {
   "cell_type": "code",
   "execution_count": 7,
   "metadata": {},
   "outputs": [
    {
     "name": "stderr",
     "output_type": "stream",
     "text": [
      "D:\\Software\\Dev\\Anaconda3\\lib\\site-packages\\tensorflow\\python\\ops\\gradients_impl.py:96: UserWarning: Converting sparse IndexedSlices to a dense Tensor of unknown shape. This may consume a large amount of memory.\n",
      "  \"Converting sparse IndexedSlices to a dense Tensor of unknown shape. \"\n"
     ]
    },
    {
     "name": "stdout",
     "output_type": "stream",
     "text": [
      "============================================================\n",
      "This is a 2-classes problem\n",
      "------------------------------------------------------------\n",
      "Data     : 9000 training samples, 1000 test samples\n",
      "Features : 0 categorical, 100 numerical\n",
      "============================================================\n",
      "Deep model: DNN\n",
      "Deep model input: Continuous features only\n",
      "------------------------------------------------------------\n",
      "------------------------------------------------------------\n",
      "Using dropout with keep_prob = 0.5\n",
      "Training without batch norm\n",
      "Hidden units: [256, 256]\n",
      "============================================================\n",
      "Wide model: DNDF\n",
      "Wide model input: Continuous features only\n",
      "------------------------------------------------------------\n",
      "Using DNDF with n_tree = 16, tree_depth = 4\n",
      "============================================================\n",
      "Hyper parameters\n",
      "------------------------------------------------------------\n",
      "This is a hybrid model\n",
      "------------------------------------------------------------\n",
      "Activation       : ['relu', 'relu']\n",
      "Batch size       : 128\n",
      "Epoch num        : 20\n",
      "Optimizer        : Adam\n",
      "Metric           : acc\n",
      "Loss             : cross_entropy\n",
      "lr               : 0.001\n",
      "------------------------------------------------------------\n",
      "Pruner           : \n",
      "-> alpha         : 0.0001\n",
      "-> beta          : 1\n",
      "-> eps           : 1e-12\n",
      "-> gamma         : 1\n",
      "-> max_ratio     : 1.0\n",
      "-> method        : hard_prune\n",
      "------------------------------------------------------------\n",
      "\n",
      "Epoch    1   Iter       69   Snapshot      3 (acc)  -  Train :     0.84   Test :    0.813  -  Current run (3) leads to best checkpoint we've ever had, saving checkpoint in case we need to restore\n",
      "Epoch    2   Iter       92   Snapshot      4 (acc)  -  Train : 0.863333   Test :    0.828  -  Current run (4) leads to best result we've ever had, saving checkpoint since performance has improved significantly\n",
      "Epoch    2   Iter      138   Snapshot      6 (acc)  -  Train : 0.854444   Test :    0.836  -  Current run (6) leads to best checkpoint we've ever had, saving checkpoint in case we need to restore\n",
      "Epoch    9   Iter      621   Snapshot     27 (acc)  -  Train : 0.891111   Test :    0.837  -  Current run (27) leads to best result we've ever had, saving checkpoint since performance has improved significantly\n",
      "Epoch   11   Iter      759   Snapshot     33 (acc)  -  Train : 0.897778   Test :    0.839  -  Current run (33) leads to best checkpoint we've ever had, saving checkpoint in case we need to restore\n",
      "Epoch   15   Iter     1035   Snapshot     45 (acc)  -  Train :      0.9   Test :    0.839  -  Current run (45) leads to best result we've ever had, saving checkpoint since performance has improved significantly\n",
      "Epoch   20   Iter     1380   Snapshot     60 (acc)  -  Train : 0.897778   Test :    0.829  -  max_epoch reached\n",
      "  -  Rolling back to the best checkpoint\n",
      "INFO:tensorflow:Restoring parameters from _Models\\NN_Advanced\\tmp\\Model\n",
      "  -  Time Cost: 50.31933641433716\n"
     ]
    }
   ],
   "source": [
    "base_params[\"model_structure_settings\"][\"use_pruner\"] = True\n",
    "wnd_dndf_pruned = Advanced(**base_params).fit(x_train, y_train, x_cv, y_cv)"
   ]
  },
  {
   "cell_type": "code",
   "execution_count": 8,
   "metadata": {},
   "outputs": [
    {
     "name": "stdout",
     "output_type": "stream",
     "text": [
      "BasicNN              acc  -  Train : 0.9248888888888889   CV :    0.828   Test :      0.9\n",
      "WnD                  acc  -  Train : 0.9374444444444444   CV :    0.828   Test :    0.934\n",
      "WnD & DNDF           acc  -  Train : 0.8765555555555555   CV :    0.833   Test : 0.938667\n",
      "WnD & DNDF & Pruner  acc  -  Train : 0.8978888888888888   CV :    0.839   Test : 0.951333\n"
     ]
    },
    {
     "data": {
      "image/png": "[encoded data removed]",
      "text/plain": [
       "<matplotlib.figure.Figure at 0x1b07b552978>"
      ]
     },
     "metadata": {},
     "output_type": "display_data"
    }
   ],
   "source": [
    "print(\"BasicNN              \", end=\"\")\n",
    "basic.evaluate(x_train, y_train, x_cv, y_cv, x_test, y_test)\n",
    "print(\"WnD                  \", end=\"\")\n",
    "wnd.evaluate(x_train, y_train, x_cv, y_cv, x_test, y_test)\n",
    "print(\"WnD & DNDF           \", end=\"\")\n",
    "wnd_dndf.evaluate(x_train, y_train, x_cv, y_cv, x_test, y_test)\n",
    "print(\"WnD & DNDF & Pruner  \", end=\"\")\n",
    "wnd_dndf_pruned.evaluate(x_train, y_train, x_cv, y_cv, x_test, y_test)\n",
    "draw_losses(basic, wnd_dndf, wnd_dndf_pruned)"
   ]
  }
 ],
 "metadata": {
  "anaconda-cloud": {},
  "kernelspec": {
   "display_name": "Python 3",
   "language": "python",
   "name": "python3"
  },
  "language_info": {
   "codemirror_mode": {
    "name": "ipython",
    "version": 3
   },
   "file_extension": ".py",
   "mimetype": "text/x-python",
   "name": "python",
   "nbconvert_exporter": "python",
   "pygments_lexer": "ipython3",
   "version": "3.6.1"
  }
 },
 "nbformat": 4,
 "nbformat_minor": 1
}
